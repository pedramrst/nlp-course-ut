{
 "cells": [
  {
   "cell_type": "code",
   "execution_count": 1,
   "metadata": {},
   "outputs": [
    {
     "name": "stderr",
     "output_type": "stream",
     "text": [
      "C:\\Users\\Pedram\\anaconda3\\envs\\nn\\lib\\site-packages\\tqdm\\auto.py:22: TqdmWarning: IProgress not found. Please update jupyter and ipywidgets. See https://ipywidgets.readthedocs.io/en/stable/user_install.html\n",
      "  from .autonotebook import tqdm as notebook_tqdm\n",
      "[nltk_data] Downloading package treebank to\n",
      "[nltk_data]     C:\\Users\\Pedram\\AppData\\Roaming\\nltk_data...\n",
      "[nltk_data]   Package treebank is already up-to-date!\n",
      "[nltk_data] Downloading package universal_tagset to\n",
      "[nltk_data]     C:\\Users\\Pedram\\AppData\\Roaming\\nltk_data...\n",
      "[nltk_data]   Package universal_tagset is already up-to-date!\n"
     ]
    }
   ],
   "source": [
    "import os\n",
    "import torch\n",
    "from torch import nn\n",
    "from torch.utils.data import DataLoader, Dataset\n",
    "import numpy as np\n",
    "from nltk.corpus import treebank\n",
    "from tqdm import tqdm\n",
    "from sklearn.preprocessing import LabelBinarizer, OrdinalEncoder\n",
    "from sklearn.model_selection import train_test_split\n",
    "import torch.nn.functional as F\n",
    "import nltk\n",
    "\n",
    "nltk.download('treebank')\n",
    "nltk.download('universal_tagset')\n",
    "device = \"cuda\" if torch.cuda.is_available() else \"cpu\""
   ]
  },
  {
   "cell_type": "code",
   "execution_count": 2,
   "metadata": {},
   "outputs": [
    {
     "name": "stderr",
     "output_type": "stream",
     "text": [
      "100%|██████████| 199/199 [00:06<00:00, 32.27it/s]\n"
     ]
    },
    {
     "data": {
      "text/plain": [
       "OrdinalEncoder(dtype=<class 'int'>, handle_unknown='use_encoded_value',\n",
       "               unknown_value=-1)"
      ]
     },
     "execution_count": 2,
     "metadata": {},
     "output_type": "execute_result"
    }
   ],
   "source": [
    "all_sents = []\n",
    "for file in tqdm(treebank.fileids()):\n",
    "    all_sents.extend(treebank.tagged_sents(file, tagset='universal'))\n",
    "tags = set()\n",
    "words = set()\n",
    "np.random.seed(42)\n",
    "train_data, data = train_test_split(all_sents, train_size=0.8, shuffle=True)\n",
    "test_data, valid_data = train_test_split(data, train_size=0.75, shuffle=False)\n",
    "for sent in train_data:\n",
    "    for (word, tag) in sent:\n",
    "        tags.add(tag)\n",
    "        words.add(word.lower())\n",
    "tags = list(tags)\n",
    "words = list(words)\n",
    "output_encoder = LabelBinarizer()\n",
    "output_encoder.fit(tags)\n",
    "input_encoder = OrdinalEncoder(handle_unknown='use_encoded_value', unknown_value=-1, dtype=int)\n",
    "input_encoder.fit(np.array(words).reshape(-1, 1))"
   ]
  },
  {
   "cell_type": "code",
   "execution_count": 3,
   "metadata": {},
   "outputs": [],
   "source": [
    "class TreebankDataset(Dataset):\n",
    "    def __init__(self, sents, input_encoder, output_encoder, device):\n",
    "        self.sents = sents\n",
    "        self.input_encoder = input_encoder\n",
    "        self.output_encoder = output_encoder\n",
    "        self.device = device\n",
    "    \n",
    "    def __len__(self,):\n",
    "        return len(self.sents)\n",
    "    \n",
    "    def __getitem__(self, idx):\n",
    "        X , y = [], []\n",
    "        for (word, tag) in self.sents[idx]:\n",
    "            X.append(word.lower())\n",
    "            y.append(tag)\n",
    "        X = self.input_encoder.transform(np.array(X).reshape(-1, 1)).reshape(-1) + 1\n",
    "        y = self.output_encoder.transform(y)\n",
    "        return torch.from_numpy(X).to(self.device), torch.from_numpy(y).to(self.device)"
   ]
  },
  {
   "cell_type": "code",
   "execution_count": 28,
   "metadata": {},
   "outputs": [],
   "source": [
    "class RNNTagger(nn.Module):\n",
    "    def __init__(self, embedding_dim, hidden_dim, vocab_size, tagset_size):\n",
    "        super(RNNTagger, self).__init__()\n",
    "        self.embedding = nn.Embedding(vocab_size, embedding_dim)\n",
    "        self.rnn = nn.RNN(embedding_dim, hidden_dim)\n",
    "        self.hidden_to_tag = nn.Linear(hidden_dim, tagset_size)\n",
    "    \n",
    "    def forward(self, sent):\n",
    "        embedings = self.embedding(sent)\n",
    "        rnn_out, _ = self.rnn(embedings.view(len(sent), 1, -1))\n",
    "        tag_space = self.hidden_to_tag(rnn_out.view(len(sent), -1))\n",
    "        tag_scores = F.softmax(tag_space, dim=1)\n",
    "        return tag_scores\n",
    "\n",
    "class LSTMTagger(nn.Module):\n",
    "    def __init__(self, embedding_dim, hidden_dim, vocab_size, tagset_size):\n",
    "        super(LSTMTagger, self).__init__()\n",
    "        self.embedding = nn.Embedding(vocab_size, embedding_dim)\n",
    "        self.lstm = nn.LSTM(embedding_dim, hidden_dim)\n",
    "        self.hidden_to_tag = nn.Linear(hidden_dim, tagset_size)\n",
    "    \n",
    "    def forward(self, sent):\n",
    "        embedings = self.embedding(sent)\n",
    "        lstm_out, _ = self.lstm(embedings.view(len(sent), 1, -1))\n",
    "        tag_space = self.hidden_to_tag(lstm_out.view(len(sent), -1))\n",
    "        tag_scores = F.softmax(tag_space, dim=1)\n",
    "        return tag_scores\n",
    "\n",
    "class GRUTagger(nn.Module):\n",
    "    def __init__(self, embedding_dim, hidden_dim, vocab_size, tagset_size):\n",
    "        super(GRUTagger, self).__init__()\n",
    "        self.embedding = nn.Embedding(vocab_size, embedding_dim)\n",
    "        self.gru = nn.GRU(embedding_dim, hidden_dim)\n",
    "        self.hidden_to_tag = nn.Linear(hidden_dim, tagset_size)\n",
    "    \n",
    "    def forward(self, sent):\n",
    "        embedings = self.embedding(sent)\n",
    "        gru_out, _ = self.gru(embedings.view(len(sent), 1, -1))\n",
    "        tag_space = self.hidden_to_tag(gru_out.view(len(sent), -1))\n",
    "        tag_scores = F.softmax(tag_space, dim=1)\n",
    "        return tag_scores\n",
    "\n"
   ]
  },
  {
   "cell_type": "code",
   "execution_count": 22,
   "metadata": {},
   "outputs": [],
   "source": [
    "import torch.optim as optim\n",
    "\n",
    "train_dataset = TreebankDataset(train_data, input_encoder, output_encoder, device)\n",
    "test_dataset = TreebankDataset(test_data, input_encoder, output_encoder, device)\n",
    "valid_dataset = TreebankDataset(valid_data, input_encoder, output_encoder, device)\n",
    "\n",
    "def train(model, loss_function, optimizer, n_epochs, train_dataset, valid_dataset, test_dataset):\n",
    "    patience = 2\n",
    "    best_acc = 0.0\n",
    "    history = []\n",
    "    for epoch in range(n_epochs):\n",
    "        epoch_info = {}\n",
    "        model.train()\n",
    "        correct, total, epoch_loss = 0, 0, 0.0\n",
    "        for (X_train, y_train) in tqdm(train_dataset, desc=f\"Training epoch {epoch + 1}/{n_epochs}\"):\n",
    "            model.zero_grad()\n",
    "            tag_scores = model(X_train)\n",
    "            y_preds = torch.argmax(tag_scores, dim=1)\n",
    "            y_trues = torch.argmax(y_train, dim=1)\n",
    "            total += y_trues.size()[0]\n",
    "            correct += (y_preds == y_trues).sum().item()\n",
    "            loss = loss_function(tag_scores, torch.argmax(y_train, dim=1))\n",
    "            epoch_loss += loss\n",
    "            loss.backward()\n",
    "            optimizer.step()\n",
    "        epoch_info = {'train_acc': float(correct) / total, 'train_loss': epoch_loss / total}\n",
    "        model.eval()\n",
    "        correct, total, epoch_loss = 0, 0, 0.0\n",
    "        for (X_val, y_val) in tqdm(valid_dataset, desc=\"Scores on validation data\"):\n",
    "            tag_scores = model(X_val)\n",
    "            y_preds = torch.argmax(tag_scores, dim=1)\n",
    "            y_trues = torch.argmax(y_val, dim=1)\n",
    "            total += y_trues.size()[0]\n",
    "            correct += (y_preds == y_trues).sum().item()\n",
    "            loss = loss_function(tag_scores, torch.argmax(y_val, dim=1))\n",
    "            epoch_loss += loss\n",
    "        epoch_info['val_acc'], epoch_info['val_loss'] = float(correct) / total, epoch_loss / total\n",
    "        print(\"val Accuracy: \", epoch_info['val_acc'])\n",
    "        history.append(epoch_info)\n",
    "        if epoch_info['val_acc'] > best_acc:\n",
    "            best_acc = epoch_info['val_acc']\n",
    "        else:\n",
    "            patience -= 1\n",
    "            if patience == 0:\n",
    "                print(f\"Early stopping on epoch {epoch + 1}\")\n",
    "                break\n",
    "    model.eval()\n",
    "    correct, total, epoch_loss = 0, 0, 0.0\n",
    "    for (X_test, y_test) in tqdm(test_dataset, desc=\"Scores on test data\"):\n",
    "        tag_scores = model(X_test)\n",
    "        y_preds = torch.argmax(tag_scores, dim=1)\n",
    "        y_trues = torch.argmax(y_test, dim=1)\n",
    "        total += y_trues.size()[0]\n",
    "        correct += (y_preds == y_trues).sum().item()\n",
    "        loss = loss_function(tag_scores, torch.argmax(y_test, dim=1))\n",
    "        epoch_loss += loss\n",
    "    test_acc, test_loss = float(correct) / total, epoch_loss / total\n",
    "    print(\"test Accuracy: \", test_acc)\n",
    "    return history, (test_acc, test_loss)    "
   ]
  },
  {
   "cell_type": "markdown",
   "metadata": {},
   "source": [
    "RNN Model - Test #1 : hidden dim = 64"
   ]
  },
  {
   "cell_type": "code",
   "execution_count": 17,
   "metadata": {},
   "outputs": [
    {
     "name": "stderr",
     "output_type": "stream",
     "text": [
      "Training epoch 1/10: 100%|██████████| 3131/3131 [01:35<00:00, 32.62it/s]\n",
      "Scores on validation data: 100%|██████████| 196/196 [00:06<00:00, 32.43it/s]\n"
     ]
    },
    {
     "name": "stdout",
     "output_type": "stream",
     "text": [
      "val Accuracy:  0.8255633255633256\n"
     ]
    },
    {
     "name": "stderr",
     "output_type": "stream",
     "text": [
      "Training epoch 2/10: 100%|██████████| 3131/3131 [01:42<00:00, 30.59it/s]\n",
      "Scores on validation data: 100%|██████████| 196/196 [00:06<00:00, 31.74it/s]\n"
     ]
    },
    {
     "name": "stdout",
     "output_type": "stream",
     "text": [
      "val Accuracy:  0.8638306138306139\n"
     ]
    },
    {
     "name": "stderr",
     "output_type": "stream",
     "text": [
      "Training epoch 3/10: 100%|██████████| 3131/3131 [01:44<00:00, 29.99it/s]\n",
      "Scores on validation data: 100%|██████████| 196/196 [00:05<00:00, 33.85it/s]\n"
     ]
    },
    {
     "name": "stdout",
     "output_type": "stream",
     "text": [
      "val Accuracy:  0.87995337995338\n"
     ]
    },
    {
     "name": "stderr",
     "output_type": "stream",
     "text": [
      "Training epoch 4/10: 100%|██████████| 3131/3131 [01:43<00:00, 30.27it/s]\n",
      "Scores on validation data: 100%|██████████| 196/196 [00:05<00:00, 33.99it/s]\n"
     ]
    },
    {
     "name": "stdout",
     "output_type": "stream",
     "text": [
      "val Accuracy:  0.8918026418026418\n"
     ]
    },
    {
     "name": "stderr",
     "output_type": "stream",
     "text": [
      "Training epoch 5/10: 100%|██████████| 3131/3131 [01:43<00:00, 30.35it/s]\n",
      "Scores on validation data: 100%|██████████| 196/196 [00:05<00:00, 33.87it/s]\n"
     ]
    },
    {
     "name": "stdout",
     "output_type": "stream",
     "text": [
      "val Accuracy:  0.8982128982128982\n"
     ]
    },
    {
     "name": "stderr",
     "output_type": "stream",
     "text": [
      "Training epoch 6/10: 100%|██████████| 3131/3131 [01:43<00:00, 30.27it/s]\n",
      "Scores on validation data: 100%|██████████| 196/196 [00:05<00:00, 33.06it/s]\n"
     ]
    },
    {
     "name": "stdout",
     "output_type": "stream",
     "text": [
      "val Accuracy:  0.9065656565656566\n"
     ]
    },
    {
     "name": "stderr",
     "output_type": "stream",
     "text": [
      "Training epoch 7/10: 100%|██████████| 3131/3131 [01:43<00:00, 30.26it/s]\n",
      "Scores on validation data: 100%|██████████| 196/196 [00:06<00:00, 32.08it/s]\n"
     ]
    },
    {
     "name": "stdout",
     "output_type": "stream",
     "text": [
      "val Accuracy:  0.89996114996115\n"
     ]
    },
    {
     "name": "stderr",
     "output_type": "stream",
     "text": [
      "Training epoch 8/10: 100%|██████████| 3131/3131 [01:43<00:00, 30.34it/s]\n",
      "Scores on validation data: 100%|██████████| 196/196 [00:05<00:00, 34.40it/s]\n"
     ]
    },
    {
     "name": "stdout",
     "output_type": "stream",
     "text": [
      "val Accuracy:  0.9024864024864024\n",
      "Early stopping on epoch 7\n"
     ]
    },
    {
     "name": "stderr",
     "output_type": "stream",
     "text": [
      "Scores on test data: 100%|██████████| 587/587 [00:18<00:00, 31.14it/s]"
     ]
    },
    {
     "name": "stdout",
     "output_type": "stream",
     "text": [
      "test Accuracy:  0.9090968118953314\n"
     ]
    },
    {
     "name": "stderr",
     "output_type": "stream",
     "text": [
      "\n"
     ]
    }
   ],
   "source": [
    "model = RNNTagger(256, 64, input_encoder.categories_[0].shape[0] + 1, len(output_encoder.classes_))\n",
    "model.to(device)\n",
    "loss_function = nn.CrossEntropyLoss()\n",
    "optimizer = optim.Adam(model.parameters())\n",
    "n_epochs = 10\n",
    "train(model, loss_function, optimizer, n_epochs, train_dataset, valid_dataset, test_dataset)\n",
    "pass"
   ]
  },
  {
   "cell_type": "markdown",
   "metadata": {},
   "source": [
    "RNN Model - Test #2 : hidden dim = 128"
   ]
  },
  {
   "cell_type": "code",
   "execution_count": 18,
   "metadata": {},
   "outputs": [
    {
     "name": "stderr",
     "output_type": "stream",
     "text": [
      "Training epoch 1/10: 100%|██████████| 3131/3131 [01:37<00:00, 32.26it/s]\n",
      "Scores on validation data: 100%|██████████| 196/196 [00:05<00:00, 34.76it/s]\n"
     ]
    },
    {
     "name": "stdout",
     "output_type": "stream",
     "text": [
      "val Accuracy:  0.822066822066822\n"
     ]
    },
    {
     "name": "stderr",
     "output_type": "stream",
     "text": [
      "Training epoch 2/10: 100%|██████████| 3131/3131 [01:39<00:00, 31.54it/s]\n",
      "Scores on validation data: 100%|██████████| 196/196 [00:07<00:00, 25.73it/s]\n"
     ]
    },
    {
     "name": "stdout",
     "output_type": "stream",
     "text": [
      "val Accuracy:  0.8591686091686092\n"
     ]
    },
    {
     "name": "stderr",
     "output_type": "stream",
     "text": [
      "Training epoch 3/10: 100%|██████████| 3131/3131 [01:38<00:00, 31.78it/s]\n",
      "Scores on validation data: 100%|██████████| 196/196 [00:05<00:00, 35.19it/s]\n"
     ]
    },
    {
     "name": "stdout",
     "output_type": "stream",
     "text": [
      "val Accuracy:  0.878982128982129\n"
     ]
    },
    {
     "name": "stderr",
     "output_type": "stream",
     "text": [
      "Training epoch 4/10: 100%|██████████| 3131/3131 [01:38<00:00, 31.80it/s]\n",
      "Scores on validation data: 100%|██████████| 196/196 [00:06<00:00, 31.72it/s]\n"
     ]
    },
    {
     "name": "stdout",
     "output_type": "stream",
     "text": [
      "val Accuracy:  0.8886946386946387\n"
     ]
    },
    {
     "name": "stderr",
     "output_type": "stream",
     "text": [
      "Training epoch 5/10: 100%|██████████| 3131/3131 [01:40<00:00, 31.03it/s]\n",
      "Scores on validation data: 100%|██████████| 196/196 [00:06<00:00, 29.72it/s]\n"
     ]
    },
    {
     "name": "stdout",
     "output_type": "stream",
     "text": [
      "val Accuracy:  0.9011266511266511\n"
     ]
    },
    {
     "name": "stderr",
     "output_type": "stream",
     "text": [
      "Training epoch 6/10: 100%|██████████| 3131/3131 [01:37<00:00, 32.25it/s]\n",
      "Scores on validation data: 100%|██████████| 196/196 [00:05<00:00, 33.18it/s]\n"
     ]
    },
    {
     "name": "stdout",
     "output_type": "stream",
     "text": [
      "val Accuracy:  0.9055944055944056\n"
     ]
    },
    {
     "name": "stderr",
     "output_type": "stream",
     "text": [
      "Training epoch 7/10: 100%|██████████| 3131/3131 [01:39<00:00, 31.31it/s]\n",
      "Scores on validation data: 100%|██████████| 196/196 [00:05<00:00, 35.57it/s]\n"
     ]
    },
    {
     "name": "stdout",
     "output_type": "stream",
     "text": [
      "val Accuracy:  0.9098679098679099\n"
     ]
    },
    {
     "name": "stderr",
     "output_type": "stream",
     "text": [
      "Training epoch 8/10: 100%|██████████| 3131/3131 [01:36<00:00, 32.46it/s]\n",
      "Scores on validation data: 100%|██████████| 196/196 [00:05<00:00, 37.46it/s]\n"
     ]
    },
    {
     "name": "stdout",
     "output_type": "stream",
     "text": [
      "val Accuracy:  0.912004662004662\n"
     ]
    },
    {
     "name": "stderr",
     "output_type": "stream",
     "text": [
      "Training epoch 9/10: 100%|██████████| 3131/3131 [01:33<00:00, 33.51it/s]\n",
      "Scores on validation data: 100%|██████████| 196/196 [00:05<00:00, 37.19it/s]\n"
     ]
    },
    {
     "name": "stdout",
     "output_type": "stream",
     "text": [
      "val Accuracy:  0.9137529137529138\n"
     ]
    },
    {
     "name": "stderr",
     "output_type": "stream",
     "text": [
      "Training epoch 10/10: 100%|██████████| 3131/3131 [01:43<00:00, 30.33it/s]\n",
      "Scores on validation data: 100%|██████████| 196/196 [00:06<00:00, 28.04it/s]\n"
     ]
    },
    {
     "name": "stdout",
     "output_type": "stream",
     "text": [
      "val Accuracy:  0.9125874125874126\n"
     ]
    },
    {
     "name": "stderr",
     "output_type": "stream",
     "text": [
      "Scores on test data: 100%|██████████| 587/587 [00:21<00:00, 27.67it/s]\n"
     ]
    },
    {
     "name": "stdout",
     "output_type": "stream",
     "text": [
      "test Accuracy:  0.9177975456139211\n"
     ]
    }
   ],
   "source": [
    "model = RNNTagger(256, 128, input_encoder.categories_[0].shape[0] + 1, len(output_encoder.classes_))\n",
    "model.to(device)\n",
    "loss_function = nn.CrossEntropyLoss()\n",
    "optimizer = optim.Adam(model.parameters())\n",
    "n_epochs = 10\n",
    "train(model, loss_function, optimizer, n_epochs, train_dataset, valid_dataset, test_dataset)\n",
    "pass"
   ]
  },
  {
   "cell_type": "markdown",
   "metadata": {},
   "source": [
    "RNN Model - Test #3 : hidden dim = 256"
   ]
  },
  {
   "cell_type": "code",
   "execution_count": 19,
   "metadata": {},
   "outputs": [
    {
     "name": "stderr",
     "output_type": "stream",
     "text": [
      "Training epoch 1/10: 100%|██████████| 3131/3131 [01:40<00:00, 31.10it/s]\n",
      "Scores on validation data: 100%|██████████| 196/196 [00:05<00:00, 33.64it/s]\n"
     ]
    },
    {
     "name": "stdout",
     "output_type": "stream",
     "text": [
      "val Accuracy:  0.8162393162393162\n"
     ]
    },
    {
     "name": "stderr",
     "output_type": "stream",
     "text": [
      "Training epoch 2/10: 100%|██████████| 3131/3131 [01:37<00:00, 32.06it/s]\n",
      "Scores on validation data: 100%|██████████| 196/196 [00:05<00:00, 32.84it/s]\n"
     ]
    },
    {
     "name": "stdout",
     "output_type": "stream",
     "text": [
      "val Accuracy:  0.8607226107226107\n"
     ]
    },
    {
     "name": "stderr",
     "output_type": "stream",
     "text": [
      "Training epoch 3/10: 100%|██████████| 3131/3131 [01:43<00:00, 30.25it/s]\n",
      "Scores on validation data: 100%|██████████| 196/196 [00:06<00:00, 31.91it/s]\n"
     ]
    },
    {
     "name": "stdout",
     "output_type": "stream",
     "text": [
      "val Accuracy:  0.8714063714063714\n"
     ]
    },
    {
     "name": "stderr",
     "output_type": "stream",
     "text": [
      "Training epoch 4/10: 100%|██████████| 3131/3131 [01:43<00:00, 30.13it/s]\n",
      "Scores on validation data: 100%|██████████| 196/196 [00:06<00:00, 32.64it/s]\n"
     ]
    },
    {
     "name": "stdout",
     "output_type": "stream",
     "text": [
      "val Accuracy:  0.8820901320901321\n"
     ]
    },
    {
     "name": "stderr",
     "output_type": "stream",
     "text": [
      "Training epoch 5/10: 100%|██████████| 3131/3131 [01:45<00:00, 29.82it/s]\n",
      "Scores on validation data: 100%|██████████| 196/196 [00:06<00:00, 32.51it/s]\n"
     ]
    },
    {
     "name": "stdout",
     "output_type": "stream",
     "text": [
      "val Accuracy:  0.8898601398601399\n"
     ]
    },
    {
     "name": "stderr",
     "output_type": "stream",
     "text": [
      "Training epoch 6/10: 100%|██████████| 3131/3131 [01:45<00:00, 29.75it/s]\n",
      "Scores on validation data: 100%|██████████| 196/196 [00:06<00:00, 30.02it/s]\n"
     ]
    },
    {
     "name": "stdout",
     "output_type": "stream",
     "text": [
      "val Accuracy:  0.8958818958818959\n"
     ]
    },
    {
     "name": "stderr",
     "output_type": "stream",
     "text": [
      "Training epoch 7/10: 100%|██████████| 3131/3131 [01:44<00:00, 29.89it/s]\n",
      "Scores on validation data: 100%|██████████| 196/196 [00:06<00:00, 31.66it/s]\n"
     ]
    },
    {
     "name": "stdout",
     "output_type": "stream",
     "text": [
      "val Accuracy:  0.896076146076146\n"
     ]
    },
    {
     "name": "stderr",
     "output_type": "stream",
     "text": [
      "Training epoch 8/10: 100%|██████████| 3131/3131 [01:46<00:00, 29.52it/s]\n",
      "Scores on validation data: 100%|██████████| 196/196 [00:05<00:00, 33.29it/s]\n"
     ]
    },
    {
     "name": "stdout",
     "output_type": "stream",
     "text": [
      "val Accuracy:  0.8986013986013986\n"
     ]
    },
    {
     "name": "stderr",
     "output_type": "stream",
     "text": [
      "Training epoch 9/10: 100%|██████████| 3131/3131 [01:45<00:00, 29.66it/s]\n",
      "Scores on validation data: 100%|██████████| 196/196 [00:06<00:00, 31.81it/s]\n"
     ]
    },
    {
     "name": "stdout",
     "output_type": "stream",
     "text": [
      "val Accuracy:  0.903069153069153\n"
     ]
    },
    {
     "name": "stderr",
     "output_type": "stream",
     "text": [
      "Training epoch 10/10: 100%|██████████| 3131/3131 [01:44<00:00, 30.10it/s]\n",
      "Scores on validation data: 100%|██████████| 196/196 [00:06<00:00, 29.89it/s]\n"
     ]
    },
    {
     "name": "stdout",
     "output_type": "stream",
     "text": [
      "val Accuracy:  0.9057886557886557\n"
     ]
    },
    {
     "name": "stderr",
     "output_type": "stream",
     "text": [
      "Scores on test data: 100%|██████████| 587/587 [00:19<00:00, 29.48it/s]\n"
     ]
    },
    {
     "name": "stdout",
     "output_type": "stream",
     "text": [
      "test Accuracy:  0.9100707746250244\n"
     ]
    }
   ],
   "source": [
    "model = RNNTagger(256, 256, input_encoder.categories_[0].shape[0] + 1, len(output_encoder.classes_))\n",
    "model.to(device)\n",
    "loss_function = nn.CrossEntropyLoss()\n",
    "optimizer = optim.Adam(model.parameters())\n",
    "n_epochs = 10\n",
    "train(model, loss_function, optimizer, n_epochs, train_dataset, valid_dataset, test_dataset)\n",
    "pass"
   ]
  },
  {
   "cell_type": "markdown",
   "metadata": {},
   "source": [
    "LSTM Model - Test #1 : hidden dim = 64"
   ]
  },
  {
   "cell_type": "code",
   "execution_count": 23,
   "metadata": {},
   "outputs": [
    {
     "name": "stderr",
     "output_type": "stream",
     "text": [
      "Training epoch 1/10: 100%|██████████| 3131/3131 [01:52<00:00, 27.82it/s]\n",
      "Scores on validation data: 100%|██████████| 196/196 [00:06<00:00, 32.29it/s]\n"
     ]
    },
    {
     "name": "stdout",
     "output_type": "stream",
     "text": [
      "val Accuracy:  0.8346930846930847\n"
     ]
    },
    {
     "name": "stderr",
     "output_type": "stream",
     "text": [
      "Training epoch 2/10: 100%|██████████| 3131/3131 [01:44<00:00, 29.83it/s]\n",
      "Scores on validation data: 100%|██████████| 196/196 [00:05<00:00, 33.34it/s]\n"
     ]
    },
    {
     "name": "stdout",
     "output_type": "stream",
     "text": [
      "val Accuracy:  0.8813131313131313\n"
     ]
    },
    {
     "name": "stderr",
     "output_type": "stream",
     "text": [
      "Training epoch 3/10: 100%|██████████| 3131/3131 [01:45<00:00, 29.54it/s]\n",
      "Scores on validation data: 100%|██████████| 196/196 [00:05<00:00, 33.09it/s]\n"
     ]
    },
    {
     "name": "stdout",
     "output_type": "stream",
     "text": [
      "val Accuracy:  0.9048174048174048\n"
     ]
    },
    {
     "name": "stderr",
     "output_type": "stream",
     "text": [
      "Training epoch 4/10: 100%|██████████| 3131/3131 [01:42<00:00, 30.62it/s]\n",
      "Scores on validation data: 100%|██████████| 196/196 [00:08<00:00, 21.85it/s]\n"
     ]
    },
    {
     "name": "stdout",
     "output_type": "stream",
     "text": [
      "val Accuracy:  0.9145299145299145\n"
     ]
    },
    {
     "name": "stderr",
     "output_type": "stream",
     "text": [
      "Training epoch 5/10: 100%|██████████| 3131/3131 [01:52<00:00, 27.91it/s]\n",
      "Scores on validation data: 100%|██████████| 196/196 [00:06<00:00, 28.93it/s]\n"
     ]
    },
    {
     "name": "stdout",
     "output_type": "stream",
     "text": [
      "val Accuracy:  0.9197746697746698\n"
     ]
    },
    {
     "name": "stderr",
     "output_type": "stream",
     "text": [
      "Training epoch 6/10: 100%|██████████| 3131/3131 [01:48<00:00, 28.78it/s]\n",
      "Scores on validation data: 100%|██████████| 196/196 [00:06<00:00, 32.64it/s]\n"
     ]
    },
    {
     "name": "stdout",
     "output_type": "stream",
     "text": [
      "val Accuracy:  0.9153069153069153\n"
     ]
    },
    {
     "name": "stderr",
     "output_type": "stream",
     "text": [
      "Training epoch 7/10: 100%|██████████| 3131/3131 [01:53<00:00, 27.50it/s]\n",
      "Scores on validation data: 100%|██████████| 196/196 [00:06<00:00, 30.96it/s]\n"
     ]
    },
    {
     "name": "stdout",
     "output_type": "stream",
     "text": [
      "val Accuracy:  0.925019425019425\n"
     ]
    },
    {
     "name": "stderr",
     "output_type": "stream",
     "text": [
      "Training epoch 8/10: 100%|██████████| 3131/3131 [01:45<00:00, 29.62it/s]\n",
      "Scores on validation data: 100%|██████████| 196/196 [00:06<00:00, 32.58it/s]\n"
     ]
    },
    {
     "name": "stdout",
     "output_type": "stream",
     "text": [
      "val Accuracy:  0.9172494172494172\n",
      "Early stopping on epoch 8\n"
     ]
    },
    {
     "name": "stderr",
     "output_type": "stream",
     "text": [
      "Scores on test data: 100%|██████████| 587/587 [00:19<00:00, 29.49it/s]\n"
     ]
    },
    {
     "name": "stdout",
     "output_type": "stream",
     "text": [
      "test Accuracy:  0.9212388805921693\n"
     ]
    }
   ],
   "source": [
    "model = LSTMTagger(256, 64, input_encoder.categories_[0].shape[0] + 1, len(output_encoder.classes_))\n",
    "model.to(device)\n",
    "loss_function = nn.CrossEntropyLoss()\n",
    "optimizer = optim.Adam(model.parameters())\n",
    "n_epochs = 10\n",
    "train(model, loss_function, optimizer, n_epochs, train_dataset, valid_dataset, test_dataset)\n",
    "pass"
   ]
  },
  {
   "cell_type": "markdown",
   "metadata": {},
   "source": [
    "LSTM Model - Test #2 : hidden dim = 128"
   ]
  },
  {
   "cell_type": "code",
   "execution_count": 24,
   "metadata": {},
   "outputs": [
    {
     "name": "stderr",
     "output_type": "stream",
     "text": [
      "Training epoch 1/10: 100%|██████████| 3131/3131 [01:39<00:00, 31.33it/s]\n",
      "Scores on validation data: 100%|██████████| 196/196 [00:06<00:00, 30.31it/s]\n"
     ]
    },
    {
     "name": "stdout",
     "output_type": "stream",
     "text": [
      "val Accuracy:  0.8298368298368298\n"
     ]
    },
    {
     "name": "stderr",
     "output_type": "stream",
     "text": [
      "Training epoch 2/10: 100%|██████████| 3131/3131 [01:40<00:00, 31.22it/s]\n",
      "Scores on validation data: 100%|██████████| 196/196 [00:05<00:00, 32.91it/s]\n"
     ]
    },
    {
     "name": "stdout",
     "output_type": "stream",
     "text": [
      "val Accuracy:  0.8714063714063714\n"
     ]
    },
    {
     "name": "stderr",
     "output_type": "stream",
     "text": [
      "Training epoch 3/10: 100%|██████████| 3131/3131 [01:55<00:00, 27.16it/s]\n",
      "Scores on validation data: 100%|██████████| 196/196 [00:06<00:00, 30.77it/s]\n"
     ]
    },
    {
     "name": "stdout",
     "output_type": "stream",
     "text": [
      "val Accuracy:  0.9011266511266511\n"
     ]
    },
    {
     "name": "stderr",
     "output_type": "stream",
     "text": [
      "Training epoch 4/10: 100%|██████████| 3131/3131 [01:48<00:00, 28.84it/s]\n",
      "Scores on validation data: 100%|██████████| 196/196 [00:05<00:00, 35.05it/s]\n"
     ]
    },
    {
     "name": "stdout",
     "output_type": "stream",
     "text": [
      "val Accuracy:  0.9048174048174048\n"
     ]
    },
    {
     "name": "stderr",
     "output_type": "stream",
     "text": [
      "Training epoch 5/10: 100%|██████████| 3131/3131 [01:50<00:00, 28.44it/s]\n",
      "Scores on validation data: 100%|██████████| 196/196 [00:06<00:00, 32.11it/s]\n"
     ]
    },
    {
     "name": "stdout",
     "output_type": "stream",
     "text": [
      "val Accuracy:  0.9143356643356644\n"
     ]
    },
    {
     "name": "stderr",
     "output_type": "stream",
     "text": [
      "Training epoch 6/10: 100%|██████████| 3131/3131 [01:58<00:00, 26.50it/s]\n",
      "Scores on validation data: 100%|██████████| 196/196 [00:05<00:00, 32.70it/s]\n"
     ]
    },
    {
     "name": "stdout",
     "output_type": "stream",
     "text": [
      "val Accuracy:  0.9193861693861693\n"
     ]
    },
    {
     "name": "stderr",
     "output_type": "stream",
     "text": [
      "Training epoch 7/10: 100%|██████████| 3131/3131 [01:50<00:00, 28.41it/s]\n",
      "Scores on validation data: 100%|██████████| 196/196 [00:06<00:00, 32.33it/s]\n"
     ]
    },
    {
     "name": "stdout",
     "output_type": "stream",
     "text": [
      "val Accuracy:  0.9224941724941725\n"
     ]
    },
    {
     "name": "stderr",
     "output_type": "stream",
     "text": [
      "Training epoch 8/10: 100%|██████████| 3131/3131 [01:52<00:00, 27.73it/s]\n",
      "Scores on validation data: 100%|██████████| 196/196 [00:06<00:00, 32.59it/s]\n"
     ]
    },
    {
     "name": "stdout",
     "output_type": "stream",
     "text": [
      "val Accuracy:  0.9269619269619269\n"
     ]
    },
    {
     "name": "stderr",
     "output_type": "stream",
     "text": [
      "Training epoch 9/10: 100%|██████████| 3131/3131 [01:51<00:00, 28.10it/s]\n",
      "Scores on validation data: 100%|██████████| 196/196 [00:05<00:00, 32.91it/s]\n"
     ]
    },
    {
     "name": "stdout",
     "output_type": "stream",
     "text": [
      "val Accuracy:  0.9298756798756799\n"
     ]
    },
    {
     "name": "stderr",
     "output_type": "stream",
     "text": [
      "Training epoch 10/10: 100%|██████████| 3131/3131 [01:46<00:00, 29.51it/s]\n",
      "Scores on validation data: 100%|██████████| 196/196 [00:05<00:00, 33.16it/s]\n"
     ]
    },
    {
     "name": "stdout",
     "output_type": "stream",
     "text": [
      "val Accuracy:  0.932983682983683\n"
     ]
    },
    {
     "name": "stderr",
     "output_type": "stream",
     "text": [
      "Scores on test data: 100%|██████████| 587/587 [00:19<00:00, 30.87it/s]\n"
     ]
    },
    {
     "name": "stdout",
     "output_type": "stream",
     "text": [
      "test Accuracy:  0.9381858320888254\n"
     ]
    }
   ],
   "source": [
    "model = LSTMTagger(256, 128, input_encoder.categories_[0].shape[0] + 1, len(output_encoder.classes_))\n",
    "model.to(device)\n",
    "loss_function = nn.CrossEntropyLoss()\n",
    "optimizer = optim.Adam(model.parameters())\n",
    "n_epochs = 10\n",
    "train(model, loss_function, optimizer, n_epochs, train_dataset, valid_dataset, test_dataset)\n",
    "pass"
   ]
  },
  {
   "cell_type": "markdown",
   "metadata": {},
   "source": [
    "LSTM Model - Test #3 : hidden dim = 256"
   ]
  },
  {
   "cell_type": "code",
   "execution_count": 25,
   "metadata": {},
   "outputs": [
    {
     "name": "stderr",
     "output_type": "stream",
     "text": [
      "Training epoch 1/10: 100%|██████████| 3131/3131 [01:45<00:00, 29.80it/s]\n",
      "Scores on validation data: 100%|██████████| 196/196 [00:06<00:00, 29.45it/s]\n"
     ]
    },
    {
     "name": "stdout",
     "output_type": "stream",
     "text": [
      "val Accuracy:  0.8484848484848485\n"
     ]
    },
    {
     "name": "stderr",
     "output_type": "stream",
     "text": [
      "Training epoch 2/10: 100%|██████████| 3131/3131 [01:43<00:00, 30.27it/s]\n",
      "Scores on validation data: 100%|██████████| 196/196 [00:05<00:00, 34.56it/s]\n"
     ]
    },
    {
     "name": "stdout",
     "output_type": "stream",
     "text": [
      "val Accuracy:  0.8916083916083916\n"
     ]
    },
    {
     "name": "stderr",
     "output_type": "stream",
     "text": [
      "Training epoch 3/10: 100%|██████████| 3131/3131 [01:48<00:00, 28.91it/s]\n",
      "Scores on validation data: 100%|██████████| 196/196 [00:06<00:00, 30.79it/s]\n"
     ]
    },
    {
     "name": "stdout",
     "output_type": "stream",
     "text": [
      "val Accuracy:  0.91006216006216\n"
     ]
    },
    {
     "name": "stderr",
     "output_type": "stream",
     "text": [
      "Training epoch 4/10: 100%|██████████| 3131/3131 [01:49<00:00, 28.70it/s]\n",
      "Scores on validation data: 100%|██████████| 196/196 [00:06<00:00, 31.41it/s]\n"
     ]
    },
    {
     "name": "stdout",
     "output_type": "stream",
     "text": [
      "val Accuracy:  0.9203574203574204\n"
     ]
    },
    {
     "name": "stderr",
     "output_type": "stream",
     "text": [
      "Training epoch 5/10: 100%|██████████| 3131/3131 [01:50<00:00, 28.28it/s]\n",
      "Scores on validation data: 100%|██████████| 196/196 [00:06<00:00, 29.91it/s]\n"
     ]
    },
    {
     "name": "stdout",
     "output_type": "stream",
     "text": [
      "val Accuracy:  0.9257964257964258\n"
     ]
    },
    {
     "name": "stderr",
     "output_type": "stream",
     "text": [
      "Training epoch 6/10: 100%|██████████| 3131/3131 [01:48<00:00, 28.98it/s]\n",
      "Scores on validation data: 100%|██████████| 196/196 [00:06<00:00, 28.21it/s]\n"
     ]
    },
    {
     "name": "stdout",
     "output_type": "stream",
     "text": [
      "val Accuracy:  0.9285159285159286\n"
     ]
    },
    {
     "name": "stderr",
     "output_type": "stream",
     "text": [
      "Training epoch 7/10: 100%|██████████| 3131/3131 [01:48<00:00, 28.91it/s]\n",
      "Scores on validation data: 100%|██████████| 196/196 [00:06<00:00, 31.64it/s]\n"
     ]
    },
    {
     "name": "stdout",
     "output_type": "stream",
     "text": [
      "val Accuracy:  0.9327894327894328\n"
     ]
    },
    {
     "name": "stderr",
     "output_type": "stream",
     "text": [
      "Training epoch 8/10: 100%|██████████| 3131/3131 [01:49<00:00, 28.60it/s]\n",
      "Scores on validation data: 100%|██████████| 196/196 [00:06<00:00, 30.85it/s]\n"
     ]
    },
    {
     "name": "stdout",
     "output_type": "stream",
     "text": [
      "val Accuracy:  0.9353146853146853\n"
     ]
    },
    {
     "name": "stderr",
     "output_type": "stream",
     "text": [
      "Training epoch 9/10: 100%|██████████| 3131/3131 [01:47<00:00, 29.05it/s]\n",
      "Scores on validation data: 100%|██████████| 196/196 [00:06<00:00, 29.45it/s]\n"
     ]
    },
    {
     "name": "stdout",
     "output_type": "stream",
     "text": [
      "val Accuracy:  0.9374514374514374\n"
     ]
    },
    {
     "name": "stderr",
     "output_type": "stream",
     "text": [
      "Training epoch 10/10: 100%|██████████| 3131/3131 [01:46<00:00, 29.39it/s]\n",
      "Scores on validation data: 100%|██████████| 196/196 [00:06<00:00, 32.06it/s]\n"
     ]
    },
    {
     "name": "stdout",
     "output_type": "stream",
     "text": [
      "val Accuracy:  0.9362859362859363\n"
     ]
    },
    {
     "name": "stderr",
     "output_type": "stream",
     "text": [
      "Scores on test data: 100%|██████████| 587/587 [00:21<00:00, 26.91it/s]\n"
     ]
    },
    {
     "name": "stdout",
     "output_type": "stream",
     "text": [
      "test Accuracy:  0.9386403480293487\n"
     ]
    }
   ],
   "source": [
    "model = LSTMTagger(256, 256, input_encoder.categories_[0].shape[0] + 1, len(output_encoder.classes_))\n",
    "model.to(device)\n",
    "loss_function = nn.CrossEntropyLoss()\n",
    "optimizer = optim.Adam(model.parameters())\n",
    "n_epochs = 10\n",
    "train(model, loss_function, optimizer, n_epochs, train_dataset, valid_dataset, test_dataset)\n",
    "pass"
   ]
  },
  {
   "cell_type": "markdown",
   "metadata": {},
   "source": [
    "GRU Model - Test #1 : hidden dim = 64"
   ]
  },
  {
   "cell_type": "code",
   "execution_count": 29,
   "metadata": {},
   "outputs": [
    {
     "name": "stderr",
     "output_type": "stream",
     "text": [
      "Training epoch 1/10: 100%|██████████| 3131/3131 [01:43<00:00, 30.11it/s]\n",
      "Scores on validation data: 100%|██████████| 196/196 [00:05<00:00, 38.36it/s]\n"
     ]
    },
    {
     "name": "stdout",
     "output_type": "stream",
     "text": [
      "val Accuracy:  0.8222610722610723\n"
     ]
    },
    {
     "name": "stderr",
     "output_type": "stream",
     "text": [
      "Training epoch 2/10: 100%|██████████| 3131/3131 [01:36<00:00, 32.48it/s]\n",
      "Scores on validation data: 100%|██████████| 196/196 [00:05<00:00, 34.90it/s]\n"
     ]
    },
    {
     "name": "stdout",
     "output_type": "stream",
     "text": [
      "val Accuracy:  0.8512043512043512\n"
     ]
    },
    {
     "name": "stderr",
     "output_type": "stream",
     "text": [
      "Training epoch 3/10: 100%|██████████| 3131/3131 [01:45<00:00, 29.61it/s]\n",
      "Scores on validation data: 100%|██████████| 196/196 [00:06<00:00, 32.63it/s]\n"
     ]
    },
    {
     "name": "stdout",
     "output_type": "stream",
     "text": [
      "val Accuracy:  0.8952991452991453\n"
     ]
    },
    {
     "name": "stderr",
     "output_type": "stream",
     "text": [
      "Training epoch 4/10: 100%|██████████| 3131/3131 [02:04<00:00, 25.19it/s]\n",
      "Scores on validation data: 100%|██████████| 196/196 [00:08<00:00, 22.00it/s]\n"
     ]
    },
    {
     "name": "stdout",
     "output_type": "stream",
     "text": [
      "val Accuracy:  0.8933566433566433\n"
     ]
    },
    {
     "name": "stderr",
     "output_type": "stream",
     "text": [
      "Training epoch 5/10: 100%|██████████| 3131/3131 [02:09<00:00, 24.11it/s]\n",
      "Scores on validation data: 100%|██████████| 196/196 [00:07<00:00, 27.40it/s]\n"
     ]
    },
    {
     "name": "stdout",
     "output_type": "stream",
     "text": [
      "val Accuracy:  0.8997668997668997\n"
     ]
    },
    {
     "name": "stderr",
     "output_type": "stream",
     "text": [
      "Training epoch 6/10: 100%|██████████| 3131/3131 [01:53<00:00, 27.49it/s]\n",
      "Scores on validation data: 100%|██████████| 196/196 [00:06<00:00, 32.62it/s]\n"
     ]
    },
    {
     "name": "stdout",
     "output_type": "stream",
     "text": [
      "val Accuracy:  0.9077311577311578\n"
     ]
    },
    {
     "name": "stderr",
     "output_type": "stream",
     "text": [
      "Training epoch 7/10: 100%|██████████| 3131/3131 [01:43<00:00, 30.21it/s]\n",
      "Scores on validation data: 100%|██████████| 196/196 [00:05<00:00, 33.70it/s]\n"
     ]
    },
    {
     "name": "stdout",
     "output_type": "stream",
     "text": [
      "val Accuracy:  0.9067599067599068\n",
      "Early stopping on epoch 7\n"
     ]
    },
    {
     "name": "stderr",
     "output_type": "stream",
     "text": [
      "Scores on test data: 100%|██████████| 587/587 [00:19<00:00, 30.78it/s]\n"
     ]
    },
    {
     "name": "stdout",
     "output_type": "stream",
     "text": [
      "test Accuracy:  0.9103954288682553\n"
     ]
    }
   ],
   "source": [
    "model = GRUTagger(256, 64, input_encoder.categories_[0].shape[0] + 1, len(output_encoder.classes_))\n",
    "model.to(device)\n",
    "loss_function = nn.CrossEntropyLoss()\n",
    "optimizer = optim.Adam(model.parameters())\n",
    "n_epochs = 10\n",
    "train(model, loss_function, optimizer, n_epochs, train_dataset, valid_dataset, test_dataset)\n",
    "pass"
   ]
  },
  {
   "cell_type": "markdown",
   "metadata": {},
   "source": [
    "GRU Model - Test #2 : hidden dim = 128"
   ]
  },
  {
   "cell_type": "code",
   "execution_count": 30,
   "metadata": {},
   "outputs": [
    {
     "name": "stderr",
     "output_type": "stream",
     "text": [
      "Training epoch 1/10: 100%|██████████| 3131/3131 [01:43<00:00, 30.20it/s]\n",
      "Scores on validation data: 100%|██████████| 196/196 [00:06<00:00, 29.86it/s]\n"
     ]
    },
    {
     "name": "stdout",
     "output_type": "stream",
     "text": [
      "val Accuracy:  0.8360528360528361\n"
     ]
    },
    {
     "name": "stderr",
     "output_type": "stream",
     "text": [
      "Training epoch 2/10: 100%|██████████| 3131/3131 [01:45<00:00, 29.58it/s]\n",
      "Scores on validation data: 100%|██████████| 196/196 [00:05<00:00, 32.73it/s]\n"
     ]
    },
    {
     "name": "stdout",
     "output_type": "stream",
     "text": [
      "val Accuracy:  0.8756798756798757\n"
     ]
    },
    {
     "name": "stderr",
     "output_type": "stream",
     "text": [
      "Training epoch 3/10: 100%|██████████| 3131/3131 [01:46<00:00, 29.49it/s]\n",
      "Scores on validation data: 100%|██████████| 196/196 [00:06<00:00, 31.02it/s]\n"
     ]
    },
    {
     "name": "stdout",
     "output_type": "stream",
     "text": [
      "val Accuracy:  0.8871406371406372\n"
     ]
    },
    {
     "name": "stderr",
     "output_type": "stream",
     "text": [
      "Training epoch 4/10: 100%|██████████| 3131/3131 [01:45<00:00, 29.57it/s]\n",
      "Scores on validation data: 100%|██████████| 196/196 [00:05<00:00, 32.90it/s]\n"
     ]
    },
    {
     "name": "stdout",
     "output_type": "stream",
     "text": [
      "val Accuracy:  0.8995726495726496\n"
     ]
    },
    {
     "name": "stderr",
     "output_type": "stream",
     "text": [
      "Training epoch 5/10: 100%|██████████| 3131/3131 [01:44<00:00, 29.97it/s]\n",
      "Scores on validation data: 100%|██████████| 196/196 [00:05<00:00, 33.05it/s]\n"
     ]
    },
    {
     "name": "stdout",
     "output_type": "stream",
     "text": [
      "val Accuracy:  0.9081196581196581\n"
     ]
    },
    {
     "name": "stderr",
     "output_type": "stream",
     "text": [
      "Training epoch 6/10: 100%|██████████| 3131/3131 [01:46<00:00, 29.52it/s]\n",
      "Scores on validation data: 100%|██████████| 196/196 [00:06<00:00, 29.19it/s]\n"
     ]
    },
    {
     "name": "stdout",
     "output_type": "stream",
     "text": [
      "val Accuracy:  0.9009324009324009\n"
     ]
    },
    {
     "name": "stderr",
     "output_type": "stream",
     "text": [
      "Training epoch 7/10: 100%|██████████| 3131/3131 [01:45<00:00, 29.68it/s]\n",
      "Scores on validation data: 100%|██████████| 196/196 [00:06<00:00, 32.23it/s]\n"
     ]
    },
    {
     "name": "stdout",
     "output_type": "stream",
     "text": [
      "val Accuracy:  0.9013209013209014\n",
      "Early stopping on epoch 7\n"
     ]
    },
    {
     "name": "stderr",
     "output_type": "stream",
     "text": [
      "Scores on test data: 100%|██████████| 587/587 [00:20<00:00, 28.22it/s]\n"
     ]
    },
    {
     "name": "stdout",
     "output_type": "stream",
     "text": [
      "test Accuracy:  0.9079280566197\n"
     ]
    }
   ],
   "source": [
    "model = GRUTagger(256, 128, input_encoder.categories_[0].shape[0] + 1, len(output_encoder.classes_))\n",
    "model.to(device)\n",
    "loss_function = nn.CrossEntropyLoss()\n",
    "optimizer = optim.Adam(model.parameters())\n",
    "n_epochs = 10\n",
    "train(model, loss_function, optimizer, n_epochs, train_dataset, valid_dataset, test_dataset)\n",
    "pass"
   ]
  },
  {
   "cell_type": "markdown",
   "metadata": {},
   "source": [
    "GRU Model - Test #3 : hidden dim = 256"
   ]
  },
  {
   "cell_type": "code",
   "execution_count": 31,
   "metadata": {},
   "outputs": [
    {
     "name": "stderr",
     "output_type": "stream",
     "text": [
      "Training epoch 1/10: 100%|██████████| 3131/3131 [01:42<00:00, 30.55it/s]\n",
      "Scores on validation data: 100%|██████████| 196/196 [00:06<00:00, 32.18it/s]\n"
     ]
    },
    {
     "name": "stdout",
     "output_type": "stream",
     "text": [
      "val Accuracy:  0.8311965811965812\n"
     ]
    },
    {
     "name": "stderr",
     "output_type": "stream",
     "text": [
      "Training epoch 2/10: 100%|██████████| 3131/3131 [01:44<00:00, 29.83it/s]\n",
      "Scores on validation data: 100%|██████████| 196/196 [00:06<00:00, 32.59it/s]\n"
     ]
    },
    {
     "name": "stdout",
     "output_type": "stream",
     "text": [
      "val Accuracy:  0.8412975912975913\n"
     ]
    },
    {
     "name": "stderr",
     "output_type": "stream",
     "text": [
      "Training epoch 3/10: 100%|██████████| 3131/3131 [01:46<00:00, 29.27it/s]\n",
      "Scores on validation data: 100%|██████████| 196/196 [00:08<00:00, 22.90it/s]\n"
     ]
    },
    {
     "name": "stdout",
     "output_type": "stream",
     "text": [
      "val Accuracy:  0.8673271173271173\n"
     ]
    },
    {
     "name": "stderr",
     "output_type": "stream",
     "text": [
      "Training epoch 4/10: 100%|██████████| 3131/3131 [01:48<00:00, 28.97it/s]\n",
      "Scores on validation data: 100%|██████████| 196/196 [00:05<00:00, 32.80it/s]\n"
     ]
    },
    {
     "name": "stdout",
     "output_type": "stream",
     "text": [
      "val Accuracy:  0.8760683760683761\n"
     ]
    },
    {
     "name": "stderr",
     "output_type": "stream",
     "text": [
      "Training epoch 5/10: 100%|██████████| 3131/3131 [01:48<00:00, 28.81it/s]\n",
      "Scores on validation data: 100%|██████████| 196/196 [00:06<00:00, 31.89it/s]\n"
     ]
    },
    {
     "name": "stdout",
     "output_type": "stream",
     "text": [
      "val Accuracy:  0.8879176379176379\n"
     ]
    },
    {
     "name": "stderr",
     "output_type": "stream",
     "text": [
      "Training epoch 6/10: 100%|██████████| 3131/3131 [01:44<00:00, 29.92it/s]\n",
      "Scores on validation data: 100%|██████████| 196/196 [00:06<00:00, 31.14it/s]\n"
     ]
    },
    {
     "name": "stdout",
     "output_type": "stream",
     "text": [
      "val Accuracy:  0.8933566433566433\n"
     ]
    },
    {
     "name": "stderr",
     "output_type": "stream",
     "text": [
      "Training epoch 7/10: 100%|██████████| 3131/3131 [01:46<00:00, 29.30it/s]\n",
      "Scores on validation data: 100%|██████████| 196/196 [00:06<00:00, 32.62it/s]\n"
     ]
    },
    {
     "name": "stdout",
     "output_type": "stream",
     "text": [
      "val Accuracy:  0.8984071484071484\n"
     ]
    },
    {
     "name": "stderr",
     "output_type": "stream",
     "text": [
      "Training epoch 8/10: 100%|██████████| 3131/3131 [01:45<00:00, 29.61it/s]\n",
      "Scores on validation data: 100%|██████████| 196/196 [00:06<00:00, 31.51it/s]\n"
     ]
    },
    {
     "name": "stdout",
     "output_type": "stream",
     "text": [
      "val Accuracy:  0.9048174048174048\n"
     ]
    },
    {
     "name": "stderr",
     "output_type": "stream",
     "text": [
      "Training epoch 9/10: 100%|██████████| 3131/3131 [01:46<00:00, 29.51it/s]\n",
      "Scores on validation data: 100%|██████████| 196/196 [00:06<00:00, 32.43it/s]\n"
     ]
    },
    {
     "name": "stdout",
     "output_type": "stream",
     "text": [
      "val Accuracy:  0.9028749028749029\n"
     ]
    },
    {
     "name": "stderr",
     "output_type": "stream",
     "text": [
      "Training epoch 10/10: 100%|██████████| 3131/3131 [01:46<00:00, 29.50it/s]\n",
      "Scores on validation data: 100%|██████████| 196/196 [00:05<00:00, 33.02it/s]\n"
     ]
    },
    {
     "name": "stdout",
     "output_type": "stream",
     "text": [
      "val Accuracy:  0.9038461538461539\n",
      "Early stopping on epoch 10\n"
     ]
    },
    {
     "name": "stderr",
     "output_type": "stream",
     "text": [
      "Scores on test data: 100%|██████████| 587/587 [00:20<00:00, 28.97it/s]\n"
     ]
    },
    {
     "name": "stdout",
     "output_type": "stream",
     "text": [
      "test Accuracy:  0.9122134926303487\n"
     ]
    }
   ],
   "source": [
    "model = GRUTagger(256, 256, input_encoder.categories_[0].shape[0] + 1, len(output_encoder.classes_))\n",
    "model.to(device)\n",
    "loss_function = nn.CrossEntropyLoss()\n",
    "optimizer = optim.Adam(model.parameters())\n",
    "n_epochs = 10\n",
    "train(model, loss_function, optimizer, n_epochs, train_dataset, valid_dataset, test_dataset)\n",
    "pass"
   ]
  }
 ],
 "metadata": {
  "interpreter": {
   "hash": "bbb10bc4ef4492045173ede38a9785d3b54d84b177feb6d6259cb4f4e6bb9227"
  },
  "kernelspec": {
   "display_name": "Python 3.8.13 ('nn')",
   "language": "python",
   "name": "python3"
  },
  "language_info": {
   "codemirror_mode": {
    "name": "ipython",
    "version": 3
   },
   "file_extension": ".py",
   "mimetype": "text/x-python",
   "name": "python",
   "nbconvert_exporter": "python",
   "pygments_lexer": "ipython3",
   "version": "3.8.13"
  },
  "orig_nbformat": 4
 },
 "nbformat": 4,
 "nbformat_minor": 2
}
