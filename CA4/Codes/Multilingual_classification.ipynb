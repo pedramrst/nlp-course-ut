{
  "nbformat": 4,
  "nbformat_minor": 0,
  "metadata": {
    "colab": {
      "name": "Multilingual_classification.ipynb",
      "provenance": [],
      "collapsed_sections": []
    },
    "kernelspec": {
      "name": "python3",
      "display_name": "Python 3"
    },
    "language_info": {
      "name": "python"
    },
    "accelerator": "GPU",
    "widgets": {
      "application/vnd.jupyter.widget-state+json": {
        "2ff88eeefee14eba8eea8b06b20ed6e5": {
          "model_module": "@jupyter-widgets/controls",
          "model_name": "HBoxModel",
          "model_module_version": "1.5.0",
          "state": {
            "_dom_classes": [],
            "_model_module": "@jupyter-widgets/controls",
            "_model_module_version": "1.5.0",
            "_model_name": "HBoxModel",
            "_view_count": null,
            "_view_module": "@jupyter-widgets/controls",
            "_view_module_version": "1.5.0",
            "_view_name": "HBoxView",
            "box_style": "",
            "children": [
              "IPY_MODEL_496a2483faa8494289ac7352e34ef75d",
              "IPY_MODEL_cbe057dda78c4263a44c9289fa5713be",
              "IPY_MODEL_80243318506e4c72a6503693a5af769c"
            ],
            "layout": "IPY_MODEL_20fb3ef3456f4afb8dc4f412c30326ca"
          }
        },
        "496a2483faa8494289ac7352e34ef75d": {
          "model_module": "@jupyter-widgets/controls",
          "model_name": "HTMLModel",
          "model_module_version": "1.5.0",
          "state": {
            "_dom_classes": [],
            "_model_module": "@jupyter-widgets/controls",
            "_model_module_version": "1.5.0",
            "_model_name": "HTMLModel",
            "_view_count": null,
            "_view_module": "@jupyter-widgets/controls",
            "_view_module_version": "1.5.0",
            "_view_name": "HTMLView",
            "description": "",
            "description_tooltip": null,
            "layout": "IPY_MODEL_39710ad5bfe948e4b92dc7a2ff9aa469",
            "placeholder": "​",
            "style": "IPY_MODEL_28d7c44a23fa413e936eadcae0efb6ef",
            "value": "Downloading: 100%"
          }
        },
        "cbe057dda78c4263a44c9289fa5713be": {
          "model_module": "@jupyter-widgets/controls",
          "model_name": "FloatProgressModel",
          "model_module_version": "1.5.0",
          "state": {
            "_dom_classes": [],
            "_model_module": "@jupyter-widgets/controls",
            "_model_module_version": "1.5.0",
            "_model_name": "FloatProgressModel",
            "_view_count": null,
            "_view_module": "@jupyter-widgets/controls",
            "_view_module_version": "1.5.0",
            "_view_name": "ProgressView",
            "bar_style": "success",
            "description": "",
            "description_tooltip": null,
            "layout": "IPY_MODEL_4a9418c04bb64a159d31e7efbbae430b",
            "max": 615,
            "min": 0,
            "orientation": "horizontal",
            "style": "IPY_MODEL_f3292675cefe4c48a95b96f5ae0a1144",
            "value": 615
          }
        },
        "80243318506e4c72a6503693a5af769c": {
          "model_module": "@jupyter-widgets/controls",
          "model_name": "HTMLModel",
          "model_module_version": "1.5.0",
          "state": {
            "_dom_classes": [],
            "_model_module": "@jupyter-widgets/controls",
            "_model_module_version": "1.5.0",
            "_model_name": "HTMLModel",
            "_view_count": null,
            "_view_module": "@jupyter-widgets/controls",
            "_view_module_version": "1.5.0",
            "_view_name": "HTMLView",
            "description": "",
            "description_tooltip": null,
            "layout": "IPY_MODEL_3d915a88564b47b597ba3cab80bebfd0",
            "placeholder": "​",
            "style": "IPY_MODEL_08b75d79991e455ab0d23efaf0c66ed0",
            "value": " 615/615 [00:00&lt;00:00, 18.1kB/s]"
          }
        },
        "20fb3ef3456f4afb8dc4f412c30326ca": {
          "model_module": "@jupyter-widgets/base",
          "model_name": "LayoutModel",
          "model_module_version": "1.2.0",
          "state": {
            "_model_module": "@jupyter-widgets/base",
            "_model_module_version": "1.2.0",
            "_model_name": "LayoutModel",
            "_view_count": null,
            "_view_module": "@jupyter-widgets/base",
            "_view_module_version": "1.2.0",
            "_view_name": "LayoutView",
            "align_content": null,
            "align_items": null,
            "align_self": null,
            "border": null,
            "bottom": null,
            "display": null,
            "flex": null,
            "flex_flow": null,
            "grid_area": null,
            "grid_auto_columns": null,
            "grid_auto_flow": null,
            "grid_auto_rows": null,
            "grid_column": null,
            "grid_gap": null,
            "grid_row": null,
            "grid_template_areas": null,
            "grid_template_columns": null,
            "grid_template_rows": null,
            "height": null,
            "justify_content": null,
            "justify_items": null,
            "left": null,
            "margin": null,
            "max_height": null,
            "max_width": null,
            "min_height": null,
            "min_width": null,
            "object_fit": null,
            "object_position": null,
            "order": null,
            "overflow": null,
            "overflow_x": null,
            "overflow_y": null,
            "padding": null,
            "right": null,
            "top": null,
            "visibility": null,
            "width": null
          }
        },
        "39710ad5bfe948e4b92dc7a2ff9aa469": {
          "model_module": "@jupyter-widgets/base",
          "model_name": "LayoutModel",
          "model_module_version": "1.2.0",
          "state": {
            "_model_module": "@jupyter-widgets/base",
            "_model_module_version": "1.2.0",
            "_model_name": "LayoutModel",
            "_view_count": null,
            "_view_module": "@jupyter-widgets/base",
            "_view_module_version": "1.2.0",
            "_view_name": "LayoutView",
            "align_content": null,
            "align_items": null,
            "align_self": null,
            "border": null,
            "bottom": null,
            "display": null,
            "flex": null,
            "flex_flow": null,
            "grid_area": null,
            "grid_auto_columns": null,
            "grid_auto_flow": null,
            "grid_auto_rows": null,
            "grid_column": null,
            "grid_gap": null,
            "grid_row": null,
            "grid_template_areas": null,
            "grid_template_columns": null,
            "grid_template_rows": null,
            "height": null,
            "justify_content": null,
            "justify_items": null,
            "left": null,
            "margin": null,
            "max_height": null,
            "max_width": null,
            "min_height": null,
            "min_width": null,
            "object_fit": null,
            "object_position": null,
            "order": null,
            "overflow": null,
            "overflow_x": null,
            "overflow_y": null,
            "padding": null,
            "right": null,
            "top": null,
            "visibility": null,
            "width": null
          }
        },
        "28d7c44a23fa413e936eadcae0efb6ef": {
          "model_module": "@jupyter-widgets/controls",
          "model_name": "DescriptionStyleModel",
          "model_module_version": "1.5.0",
          "state": {
            "_model_module": "@jupyter-widgets/controls",
            "_model_module_version": "1.5.0",
            "_model_name": "DescriptionStyleModel",
            "_view_count": null,
            "_view_module": "@jupyter-widgets/base",
            "_view_module_version": "1.2.0",
            "_view_name": "StyleView",
            "description_width": ""
          }
        },
        "4a9418c04bb64a159d31e7efbbae430b": {
          "model_module": "@jupyter-widgets/base",
          "model_name": "LayoutModel",
          "model_module_version": "1.2.0",
          "state": {
            "_model_module": "@jupyter-widgets/base",
            "_model_module_version": "1.2.0",
            "_model_name": "LayoutModel",
            "_view_count": null,
            "_view_module": "@jupyter-widgets/base",
            "_view_module_version": "1.2.0",
            "_view_name": "LayoutView",
            "align_content": null,
            "align_items": null,
            "align_self": null,
            "border": null,
            "bottom": null,
            "display": null,
            "flex": null,
            "flex_flow": null,
            "grid_area": null,
            "grid_auto_columns": null,
            "grid_auto_flow": null,
            "grid_auto_rows": null,
            "grid_column": null,
            "grid_gap": null,
            "grid_row": null,
            "grid_template_areas": null,
            "grid_template_columns": null,
            "grid_template_rows": null,
            "height": null,
            "justify_content": null,
            "justify_items": null,
            "left": null,
            "margin": null,
            "max_height": null,
            "max_width": null,
            "min_height": null,
            "min_width": null,
            "object_fit": null,
            "object_position": null,
            "order": null,
            "overflow": null,
            "overflow_x": null,
            "overflow_y": null,
            "padding": null,
            "right": null,
            "top": null,
            "visibility": null,
            "width": null
          }
        },
        "f3292675cefe4c48a95b96f5ae0a1144": {
          "model_module": "@jupyter-widgets/controls",
          "model_name": "ProgressStyleModel",
          "model_module_version": "1.5.0",
          "state": {
            "_model_module": "@jupyter-widgets/controls",
            "_model_module_version": "1.5.0",
            "_model_name": "ProgressStyleModel",
            "_view_count": null,
            "_view_module": "@jupyter-widgets/base",
            "_view_module_version": "1.2.0",
            "_view_name": "StyleView",
            "bar_color": null,
            "description_width": ""
          }
        },
        "3d915a88564b47b597ba3cab80bebfd0": {
          "model_module": "@jupyter-widgets/base",
          "model_name": "LayoutModel",
          "model_module_version": "1.2.0",
          "state": {
            "_model_module": "@jupyter-widgets/base",
            "_model_module_version": "1.2.0",
            "_model_name": "LayoutModel",
            "_view_count": null,
            "_view_module": "@jupyter-widgets/base",
            "_view_module_version": "1.2.0",
            "_view_name": "LayoutView",
            "align_content": null,
            "align_items": null,
            "align_self": null,
            "border": null,
            "bottom": null,
            "display": null,
            "flex": null,
            "flex_flow": null,
            "grid_area": null,
            "grid_auto_columns": null,
            "grid_auto_flow": null,
            "grid_auto_rows": null,
            "grid_column": null,
            "grid_gap": null,
            "grid_row": null,
            "grid_template_areas": null,
            "grid_template_columns": null,
            "grid_template_rows": null,
            "height": null,
            "justify_content": null,
            "justify_items": null,
            "left": null,
            "margin": null,
            "max_height": null,
            "max_width": null,
            "min_height": null,
            "min_width": null,
            "object_fit": null,
            "object_position": null,
            "order": null,
            "overflow": null,
            "overflow_x": null,
            "overflow_y": null,
            "padding": null,
            "right": null,
            "top": null,
            "visibility": null,
            "width": null
          }
        },
        "08b75d79991e455ab0d23efaf0c66ed0": {
          "model_module": "@jupyter-widgets/controls",
          "model_name": "DescriptionStyleModel",
          "model_module_version": "1.5.0",
          "state": {
            "_model_module": "@jupyter-widgets/controls",
            "_model_module_version": "1.5.0",
            "_model_name": "DescriptionStyleModel",
            "_view_count": null,
            "_view_module": "@jupyter-widgets/base",
            "_view_module_version": "1.2.0",
            "_view_name": "StyleView",
            "description_width": ""
          }
        },
        "b581f52980194d059737da8131917f58": {
          "model_module": "@jupyter-widgets/controls",
          "model_name": "HBoxModel",
          "model_module_version": "1.5.0",
          "state": {
            "_dom_classes": [],
            "_model_module": "@jupyter-widgets/controls",
            "_model_module_version": "1.5.0",
            "_model_name": "HBoxModel",
            "_view_count": null,
            "_view_module": "@jupyter-widgets/controls",
            "_view_module_version": "1.5.0",
            "_view_name": "HBoxView",
            "box_style": "",
            "children": [
              "IPY_MODEL_dcfd5a28dadb40b2bb08dd91f720f780",
              "IPY_MODEL_2a0188f4b2474ec1a69b768cf4858beb",
              "IPY_MODEL_6f961ae4e008468a99e17cfaae9985d1"
            ],
            "layout": "IPY_MODEL_af922ef17e7e4664b0545bdcfefa924a"
          }
        },
        "dcfd5a28dadb40b2bb08dd91f720f780": {
          "model_module": "@jupyter-widgets/controls",
          "model_name": "HTMLModel",
          "model_module_version": "1.5.0",
          "state": {
            "_dom_classes": [],
            "_model_module": "@jupyter-widgets/controls",
            "_model_module_version": "1.5.0",
            "_model_name": "HTMLModel",
            "_view_count": null,
            "_view_module": "@jupyter-widgets/controls",
            "_view_module_version": "1.5.0",
            "_view_name": "HTMLView",
            "description": "",
            "description_tooltip": null,
            "layout": "IPY_MODEL_f0ae98900d96434899cdb5d44aeb2d73",
            "placeholder": "​",
            "style": "IPY_MODEL_535ef20bb6b044cc9c87629260903ba0",
            "value": "Downloading: 100%"
          }
        },
        "2a0188f4b2474ec1a69b768cf4858beb": {
          "model_module": "@jupyter-widgets/controls",
          "model_name": "FloatProgressModel",
          "model_module_version": "1.5.0",
          "state": {
            "_dom_classes": [],
            "_model_module": "@jupyter-widgets/controls",
            "_model_module_version": "1.5.0",
            "_model_name": "FloatProgressModel",
            "_view_count": null,
            "_view_module": "@jupyter-widgets/controls",
            "_view_module_version": "1.5.0",
            "_view_name": "ProgressView",
            "bar_style": "success",
            "description": "",
            "description_tooltip": null,
            "layout": "IPY_MODEL_90f0bb7567c74968be051cd69218b7b6",
            "max": 5069051,
            "min": 0,
            "orientation": "horizontal",
            "style": "IPY_MODEL_ddcb7ccb7df44f36a738b3f47042a476",
            "value": 5069051
          }
        },
        "6f961ae4e008468a99e17cfaae9985d1": {
          "model_module": "@jupyter-widgets/controls",
          "model_name": "HTMLModel",
          "model_module_version": "1.5.0",
          "state": {
            "_dom_classes": [],
            "_model_module": "@jupyter-widgets/controls",
            "_model_module_version": "1.5.0",
            "_model_name": "HTMLModel",
            "_view_count": null,
            "_view_module": "@jupyter-widgets/controls",
            "_view_module_version": "1.5.0",
            "_view_name": "HTMLView",
            "description": "",
            "description_tooltip": null,
            "layout": "IPY_MODEL_6eeff81d51bc486fb1c85f4b92491568",
            "placeholder": "​",
            "style": "IPY_MODEL_ba93996a1723402186d2ddb389f8bd86",
            "value": " 4.83M/4.83M [00:00&lt;00:00, 6.96MB/s]"
          }
        },
        "af922ef17e7e4664b0545bdcfefa924a": {
          "model_module": "@jupyter-widgets/base",
          "model_name": "LayoutModel",
          "model_module_version": "1.2.0",
          "state": {
            "_model_module": "@jupyter-widgets/base",
            "_model_module_version": "1.2.0",
            "_model_name": "LayoutModel",
            "_view_count": null,
            "_view_module": "@jupyter-widgets/base",
            "_view_module_version": "1.2.0",
            "_view_name": "LayoutView",
            "align_content": null,
            "align_items": null,
            "align_self": null,
            "border": null,
            "bottom": null,
            "display": null,
            "flex": null,
            "flex_flow": null,
            "grid_area": null,
            "grid_auto_columns": null,
            "grid_auto_flow": null,
            "grid_auto_rows": null,
            "grid_column": null,
            "grid_gap": null,
            "grid_row": null,
            "grid_template_areas": null,
            "grid_template_columns": null,
            "grid_template_rows": null,
            "height": null,
            "justify_content": null,
            "justify_items": null,
            "left": null,
            "margin": null,
            "max_height": null,
            "max_width": null,
            "min_height": null,
            "min_width": null,
            "object_fit": null,
            "object_position": null,
            "order": null,
            "overflow": null,
            "overflow_x": null,
            "overflow_y": null,
            "padding": null,
            "right": null,
            "top": null,
            "visibility": null,
            "width": null
          }
        },
        "f0ae98900d96434899cdb5d44aeb2d73": {
          "model_module": "@jupyter-widgets/base",
          "model_name": "LayoutModel",
          "model_module_version": "1.2.0",
          "state": {
            "_model_module": "@jupyter-widgets/base",
            "_model_module_version": "1.2.0",
            "_model_name": "LayoutModel",
            "_view_count": null,
            "_view_module": "@jupyter-widgets/base",
            "_view_module_version": "1.2.0",
            "_view_name": "LayoutView",
            "align_content": null,
            "align_items": null,
            "align_self": null,
            "border": null,
            "bottom": null,
            "display": null,
            "flex": null,
            "flex_flow": null,
            "grid_area": null,
            "grid_auto_columns": null,
            "grid_auto_flow": null,
            "grid_auto_rows": null,
            "grid_column": null,
            "grid_gap": null,
            "grid_row": null,
            "grid_template_areas": null,
            "grid_template_columns": null,
            "grid_template_rows": null,
            "height": null,
            "justify_content": null,
            "justify_items": null,
            "left": null,
            "margin": null,
            "max_height": null,
            "max_width": null,
            "min_height": null,
            "min_width": null,
            "object_fit": null,
            "object_position": null,
            "order": null,
            "overflow": null,
            "overflow_x": null,
            "overflow_y": null,
            "padding": null,
            "right": null,
            "top": null,
            "visibility": null,
            "width": null
          }
        },
        "535ef20bb6b044cc9c87629260903ba0": {
          "model_module": "@jupyter-widgets/controls",
          "model_name": "DescriptionStyleModel",
          "model_module_version": "1.5.0",
          "state": {
            "_model_module": "@jupyter-widgets/controls",
            "_model_module_version": "1.5.0",
            "_model_name": "DescriptionStyleModel",
            "_view_count": null,
            "_view_module": "@jupyter-widgets/base",
            "_view_module_version": "1.2.0",
            "_view_name": "StyleView",
            "description_width": ""
          }
        },
        "90f0bb7567c74968be051cd69218b7b6": {
          "model_module": "@jupyter-widgets/base",
          "model_name": "LayoutModel",
          "model_module_version": "1.2.0",
          "state": {
            "_model_module": "@jupyter-widgets/base",
            "_model_module_version": "1.2.0",
            "_model_name": "LayoutModel",
            "_view_count": null,
            "_view_module": "@jupyter-widgets/base",
            "_view_module_version": "1.2.0",
            "_view_name": "LayoutView",
            "align_content": null,
            "align_items": null,
            "align_self": null,
            "border": null,
            "bottom": null,
            "display": null,
            "flex": null,
            "flex_flow": null,
            "grid_area": null,
            "grid_auto_columns": null,
            "grid_auto_flow": null,
            "grid_auto_rows": null,
            "grid_column": null,
            "grid_gap": null,
            "grid_row": null,
            "grid_template_areas": null,
            "grid_template_columns": null,
            "grid_template_rows": null,
            "height": null,
            "justify_content": null,
            "justify_items": null,
            "left": null,
            "margin": null,
            "max_height": null,
            "max_width": null,
            "min_height": null,
            "min_width": null,
            "object_fit": null,
            "object_position": null,
            "order": null,
            "overflow": null,
            "overflow_x": null,
            "overflow_y": null,
            "padding": null,
            "right": null,
            "top": null,
            "visibility": null,
            "width": null
          }
        },
        "ddcb7ccb7df44f36a738b3f47042a476": {
          "model_module": "@jupyter-widgets/controls",
          "model_name": "ProgressStyleModel",
          "model_module_version": "1.5.0",
          "state": {
            "_model_module": "@jupyter-widgets/controls",
            "_model_module_version": "1.5.0",
            "_model_name": "ProgressStyleModel",
            "_view_count": null,
            "_view_module": "@jupyter-widgets/base",
            "_view_module_version": "1.2.0",
            "_view_name": "StyleView",
            "bar_color": null,
            "description_width": ""
          }
        },
        "6eeff81d51bc486fb1c85f4b92491568": {
          "model_module": "@jupyter-widgets/base",
          "model_name": "LayoutModel",
          "model_module_version": "1.2.0",
          "state": {
            "_model_module": "@jupyter-widgets/base",
            "_model_module_version": "1.2.0",
            "_model_name": "LayoutModel",
            "_view_count": null,
            "_view_module": "@jupyter-widgets/base",
            "_view_module_version": "1.2.0",
            "_view_name": "LayoutView",
            "align_content": null,
            "align_items": null,
            "align_self": null,
            "border": null,
            "bottom": null,
            "display": null,
            "flex": null,
            "flex_flow": null,
            "grid_area": null,
            "grid_auto_columns": null,
            "grid_auto_flow": null,
            "grid_auto_rows": null,
            "grid_column": null,
            "grid_gap": null,
            "grid_row": null,
            "grid_template_areas": null,
            "grid_template_columns": null,
            "grid_template_rows": null,
            "height": null,
            "justify_content": null,
            "justify_items": null,
            "left": null,
            "margin": null,
            "max_height": null,
            "max_width": null,
            "min_height": null,
            "min_width": null,
            "object_fit": null,
            "object_position": null,
            "order": null,
            "overflow": null,
            "overflow_x": null,
            "overflow_y": null,
            "padding": null,
            "right": null,
            "top": null,
            "visibility": null,
            "width": null
          }
        },
        "ba93996a1723402186d2ddb389f8bd86": {
          "model_module": "@jupyter-widgets/controls",
          "model_name": "DescriptionStyleModel",
          "model_module_version": "1.5.0",
          "state": {
            "_model_module": "@jupyter-widgets/controls",
            "_model_module_version": "1.5.0",
            "_model_name": "DescriptionStyleModel",
            "_view_count": null,
            "_view_module": "@jupyter-widgets/base",
            "_view_module_version": "1.2.0",
            "_view_name": "StyleView",
            "description_width": ""
          }
        },
        "3bf1e864bc57433288e867412501c8db": {
          "model_module": "@jupyter-widgets/controls",
          "model_name": "HBoxModel",
          "model_module_version": "1.5.0",
          "state": {
            "_dom_classes": [],
            "_model_module": "@jupyter-widgets/controls",
            "_model_module_version": "1.5.0",
            "_model_name": "HBoxModel",
            "_view_count": null,
            "_view_module": "@jupyter-widgets/controls",
            "_view_module_version": "1.5.0",
            "_view_name": "HBoxView",
            "box_style": "",
            "children": [
              "IPY_MODEL_322b05b519f3438ba56dcea0e3f47d05",
              "IPY_MODEL_b834d48074c948deabf25b4e0d6e875a",
              "IPY_MODEL_b49d998efb1d49768f8f986ef3afd2ec"
            ],
            "layout": "IPY_MODEL_2f8f0fae7b254f7eb7aff5864d9c5f6f"
          }
        },
        "322b05b519f3438ba56dcea0e3f47d05": {
          "model_module": "@jupyter-widgets/controls",
          "model_name": "HTMLModel",
          "model_module_version": "1.5.0",
          "state": {
            "_dom_classes": [],
            "_model_module": "@jupyter-widgets/controls",
            "_model_module_version": "1.5.0",
            "_model_name": "HTMLModel",
            "_view_count": null,
            "_view_module": "@jupyter-widgets/controls",
            "_view_module_version": "1.5.0",
            "_view_name": "HTMLView",
            "description": "",
            "description_tooltip": null,
            "layout": "IPY_MODEL_db8480018bb44160b00d90294810ce17",
            "placeholder": "​",
            "style": "IPY_MODEL_0fc43cbd96da4187af01771d2b26b75e",
            "value": "Downloading: 100%"
          }
        },
        "b834d48074c948deabf25b4e0d6e875a": {
          "model_module": "@jupyter-widgets/controls",
          "model_name": "FloatProgressModel",
          "model_module_version": "1.5.0",
          "state": {
            "_dom_classes": [],
            "_model_module": "@jupyter-widgets/controls",
            "_model_module_version": "1.5.0",
            "_model_name": "FloatProgressModel",
            "_view_count": null,
            "_view_module": "@jupyter-widgets/controls",
            "_view_module_version": "1.5.0",
            "_view_name": "ProgressView",
            "bar_style": "success",
            "description": "",
            "description_tooltip": null,
            "layout": "IPY_MODEL_f66d19b6494844848bdcaba573acd284",
            "max": 9096718,
            "min": 0,
            "orientation": "horizontal",
            "style": "IPY_MODEL_fa0aca86c14c49ee9836eef13710bbd1",
            "value": 9096718
          }
        },
        "b49d998efb1d49768f8f986ef3afd2ec": {
          "model_module": "@jupyter-widgets/controls",
          "model_name": "HTMLModel",
          "model_module_version": "1.5.0",
          "state": {
            "_dom_classes": [],
            "_model_module": "@jupyter-widgets/controls",
            "_model_module_version": "1.5.0",
            "_model_name": "HTMLModel",
            "_view_count": null,
            "_view_module": "@jupyter-widgets/controls",
            "_view_module_version": "1.5.0",
            "_view_name": "HTMLView",
            "description": "",
            "description_tooltip": null,
            "layout": "IPY_MODEL_e6b274799fa4440bbbaec6a1ce705c67",
            "placeholder": "​",
            "style": "IPY_MODEL_4145ad93aaae41c6a651bbd4d08ac4f7",
            "value": " 8.68M/8.68M [00:01&lt;00:00, 11.8MB/s]"
          }
        },
        "2f8f0fae7b254f7eb7aff5864d9c5f6f": {
          "model_module": "@jupyter-widgets/base",
          "model_name": "LayoutModel",
          "model_module_version": "1.2.0",
          "state": {
            "_model_module": "@jupyter-widgets/base",
            "_model_module_version": "1.2.0",
            "_model_name": "LayoutModel",
            "_view_count": null,
            "_view_module": "@jupyter-widgets/base",
            "_view_module_version": "1.2.0",
            "_view_name": "LayoutView",
            "align_content": null,
            "align_items": null,
            "align_self": null,
            "border": null,
            "bottom": null,
            "display": null,
            "flex": null,
            "flex_flow": null,
            "grid_area": null,
            "grid_auto_columns": null,
            "grid_auto_flow": null,
            "grid_auto_rows": null,
            "grid_column": null,
            "grid_gap": null,
            "grid_row": null,
            "grid_template_areas": null,
            "grid_template_columns": null,
            "grid_template_rows": null,
            "height": null,
            "justify_content": null,
            "justify_items": null,
            "left": null,
            "margin": null,
            "max_height": null,
            "max_width": null,
            "min_height": null,
            "min_width": null,
            "object_fit": null,
            "object_position": null,
            "order": null,
            "overflow": null,
            "overflow_x": null,
            "overflow_y": null,
            "padding": null,
            "right": null,
            "top": null,
            "visibility": null,
            "width": null
          }
        },
        "db8480018bb44160b00d90294810ce17": {
          "model_module": "@jupyter-widgets/base",
          "model_name": "LayoutModel",
          "model_module_version": "1.2.0",
          "state": {
            "_model_module": "@jupyter-widgets/base",
            "_model_module_version": "1.2.0",
            "_model_name": "LayoutModel",
            "_view_count": null,
            "_view_module": "@jupyter-widgets/base",
            "_view_module_version": "1.2.0",
            "_view_name": "LayoutView",
            "align_content": null,
            "align_items": null,
            "align_self": null,
            "border": null,
            "bottom": null,
            "display": null,
            "flex": null,
            "flex_flow": null,
            "grid_area": null,
            "grid_auto_columns": null,
            "grid_auto_flow": null,
            "grid_auto_rows": null,
            "grid_column": null,
            "grid_gap": null,
            "grid_row": null,
            "grid_template_areas": null,
            "grid_template_columns": null,
            "grid_template_rows": null,
            "height": null,
            "justify_content": null,
            "justify_items": null,
            "left": null,
            "margin": null,
            "max_height": null,
            "max_width": null,
            "min_height": null,
            "min_width": null,
            "object_fit": null,
            "object_position": null,
            "order": null,
            "overflow": null,
            "overflow_x": null,
            "overflow_y": null,
            "padding": null,
            "right": null,
            "top": null,
            "visibility": null,
            "width": null
          }
        },
        "0fc43cbd96da4187af01771d2b26b75e": {
          "model_module": "@jupyter-widgets/controls",
          "model_name": "DescriptionStyleModel",
          "model_module_version": "1.5.0",
          "state": {
            "_model_module": "@jupyter-widgets/controls",
            "_model_module_version": "1.5.0",
            "_model_name": "DescriptionStyleModel",
            "_view_count": null,
            "_view_module": "@jupyter-widgets/base",
            "_view_module_version": "1.2.0",
            "_view_name": "StyleView",
            "description_width": ""
          }
        },
        "f66d19b6494844848bdcaba573acd284": {
          "model_module": "@jupyter-widgets/base",
          "model_name": "LayoutModel",
          "model_module_version": "1.2.0",
          "state": {
            "_model_module": "@jupyter-widgets/base",
            "_model_module_version": "1.2.0",
            "_model_name": "LayoutModel",
            "_view_count": null,
            "_view_module": "@jupyter-widgets/base",
            "_view_module_version": "1.2.0",
            "_view_name": "LayoutView",
            "align_content": null,
            "align_items": null,
            "align_self": null,
            "border": null,
            "bottom": null,
            "display": null,
            "flex": null,
            "flex_flow": null,
            "grid_area": null,
            "grid_auto_columns": null,
            "grid_auto_flow": null,
            "grid_auto_rows": null,
            "grid_column": null,
            "grid_gap": null,
            "grid_row": null,
            "grid_template_areas": null,
            "grid_template_columns": null,
            "grid_template_rows": null,
            "height": null,
            "justify_content": null,
            "justify_items": null,
            "left": null,
            "margin": null,
            "max_height": null,
            "max_width": null,
            "min_height": null,
            "min_width": null,
            "object_fit": null,
            "object_position": null,
            "order": null,
            "overflow": null,
            "overflow_x": null,
            "overflow_y": null,
            "padding": null,
            "right": null,
            "top": null,
            "visibility": null,
            "width": null
          }
        },
        "fa0aca86c14c49ee9836eef13710bbd1": {
          "model_module": "@jupyter-widgets/controls",
          "model_name": "ProgressStyleModel",
          "model_module_version": "1.5.0",
          "state": {
            "_model_module": "@jupyter-widgets/controls",
            "_model_module_version": "1.5.0",
            "_model_name": "ProgressStyleModel",
            "_view_count": null,
            "_view_module": "@jupyter-widgets/base",
            "_view_module_version": "1.2.0",
            "_view_name": "StyleView",
            "bar_color": null,
            "description_width": ""
          }
        },
        "e6b274799fa4440bbbaec6a1ce705c67": {
          "model_module": "@jupyter-widgets/base",
          "model_name": "LayoutModel",
          "model_module_version": "1.2.0",
          "state": {
            "_model_module": "@jupyter-widgets/base",
            "_model_module_version": "1.2.0",
            "_model_name": "LayoutModel",
            "_view_count": null,
            "_view_module": "@jupyter-widgets/base",
            "_view_module_version": "1.2.0",
            "_view_name": "LayoutView",
            "align_content": null,
            "align_items": null,
            "align_self": null,
            "border": null,
            "bottom": null,
            "display": null,
            "flex": null,
            "flex_flow": null,
            "grid_area": null,
            "grid_auto_columns": null,
            "grid_auto_flow": null,
            "grid_auto_rows": null,
            "grid_column": null,
            "grid_gap": null,
            "grid_row": null,
            "grid_template_areas": null,
            "grid_template_columns": null,
            "grid_template_rows": null,
            "height": null,
            "justify_content": null,
            "justify_items": null,
            "left": null,
            "margin": null,
            "max_height": null,
            "max_width": null,
            "min_height": null,
            "min_width": null,
            "object_fit": null,
            "object_position": null,
            "order": null,
            "overflow": null,
            "overflow_x": null,
            "overflow_y": null,
            "padding": null,
            "right": null,
            "top": null,
            "visibility": null,
            "width": null
          }
        },
        "4145ad93aaae41c6a651bbd4d08ac4f7": {
          "model_module": "@jupyter-widgets/controls",
          "model_name": "DescriptionStyleModel",
          "model_module_version": "1.5.0",
          "state": {
            "_model_module": "@jupyter-widgets/controls",
            "_model_module_version": "1.5.0",
            "_model_name": "DescriptionStyleModel",
            "_view_count": null,
            "_view_module": "@jupyter-widgets/base",
            "_view_module_version": "1.2.0",
            "_view_name": "StyleView",
            "description_width": ""
          }
        },
        "1d632ff33dc74a4a884183056b8e6556": {
          "model_module": "@jupyter-widgets/controls",
          "model_name": "HBoxModel",
          "model_module_version": "1.5.0",
          "state": {
            "_dom_classes": [],
            "_model_module": "@jupyter-widgets/controls",
            "_model_module_version": "1.5.0",
            "_model_name": "HBoxModel",
            "_view_count": null,
            "_view_module": "@jupyter-widgets/controls",
            "_view_module_version": "1.5.0",
            "_view_name": "HBoxView",
            "box_style": "",
            "children": [
              "IPY_MODEL_5d714f2e4dfa44d592b27b23eb80624c",
              "IPY_MODEL_dfb473408caa48c690bde59a6aa3e9cd",
              "IPY_MODEL_31defc4f1e7a47699982dfb7dd150e34"
            ],
            "layout": "IPY_MODEL_53dbeafacc9144d686aad1140a83fe45"
          }
        },
        "5d714f2e4dfa44d592b27b23eb80624c": {
          "model_module": "@jupyter-widgets/controls",
          "model_name": "HTMLModel",
          "model_module_version": "1.5.0",
          "state": {
            "_dom_classes": [],
            "_model_module": "@jupyter-widgets/controls",
            "_model_module_version": "1.5.0",
            "_model_name": "HTMLModel",
            "_view_count": null,
            "_view_module": "@jupyter-widgets/controls",
            "_view_module_version": "1.5.0",
            "_view_name": "HTMLView",
            "description": "",
            "description_tooltip": null,
            "layout": "IPY_MODEL_05a27bf34f1d46f4a5f80b18ad59a3c2",
            "placeholder": "​",
            "style": "IPY_MODEL_09481f8c499241c4920e344018c0f2c9",
            "value": "Downloading: 100%"
          }
        },
        "dfb473408caa48c690bde59a6aa3e9cd": {
          "model_module": "@jupyter-widgets/controls",
          "model_name": "FloatProgressModel",
          "model_module_version": "1.5.0",
          "state": {
            "_dom_classes": [],
            "_model_module": "@jupyter-widgets/controls",
            "_model_module_version": "1.5.0",
            "_model_name": "FloatProgressModel",
            "_view_count": null,
            "_view_module": "@jupyter-widgets/controls",
            "_view_module_version": "1.5.0",
            "_view_name": "ProgressView",
            "bar_style": "success",
            "description": "",
            "description_tooltip": null,
            "layout": "IPY_MODEL_189395bc1def44ab98739ba9c0ae5c58",
            "max": 1115590446,
            "min": 0,
            "orientation": "horizontal",
            "style": "IPY_MODEL_baf7a3b56f1840caa3e7269673b49a51",
            "value": 1115590446
          }
        },
        "31defc4f1e7a47699982dfb7dd150e34": {
          "model_module": "@jupyter-widgets/controls",
          "model_name": "HTMLModel",
          "model_module_version": "1.5.0",
          "state": {
            "_dom_classes": [],
            "_model_module": "@jupyter-widgets/controls",
            "_model_module_version": "1.5.0",
            "_model_name": "HTMLModel",
            "_view_count": null,
            "_view_module": "@jupyter-widgets/controls",
            "_view_module_version": "1.5.0",
            "_view_name": "HTMLView",
            "description": "",
            "description_tooltip": null,
            "layout": "IPY_MODEL_014c75bad52e43fb8f2762d86128587a",
            "placeholder": "​",
            "style": "IPY_MODEL_177dff21e67646db8401a990e3be316f",
            "value": " 1.04G/1.04G [01:16&lt;00:00, 13.9MB/s]"
          }
        },
        "53dbeafacc9144d686aad1140a83fe45": {
          "model_module": "@jupyter-widgets/base",
          "model_name": "LayoutModel",
          "model_module_version": "1.2.0",
          "state": {
            "_model_module": "@jupyter-widgets/base",
            "_model_module_version": "1.2.0",
            "_model_name": "LayoutModel",
            "_view_count": null,
            "_view_module": "@jupyter-widgets/base",
            "_view_module_version": "1.2.0",
            "_view_name": "LayoutView",
            "align_content": null,
            "align_items": null,
            "align_self": null,
            "border": null,
            "bottom": null,
            "display": null,
            "flex": null,
            "flex_flow": null,
            "grid_area": null,
            "grid_auto_columns": null,
            "grid_auto_flow": null,
            "grid_auto_rows": null,
            "grid_column": null,
            "grid_gap": null,
            "grid_row": null,
            "grid_template_areas": null,
            "grid_template_columns": null,
            "grid_template_rows": null,
            "height": null,
            "justify_content": null,
            "justify_items": null,
            "left": null,
            "margin": null,
            "max_height": null,
            "max_width": null,
            "min_height": null,
            "min_width": null,
            "object_fit": null,
            "object_position": null,
            "order": null,
            "overflow": null,
            "overflow_x": null,
            "overflow_y": null,
            "padding": null,
            "right": null,
            "top": null,
            "visibility": null,
            "width": null
          }
        },
        "05a27bf34f1d46f4a5f80b18ad59a3c2": {
          "model_module": "@jupyter-widgets/base",
          "model_name": "LayoutModel",
          "model_module_version": "1.2.0",
          "state": {
            "_model_module": "@jupyter-widgets/base",
            "_model_module_version": "1.2.0",
            "_model_name": "LayoutModel",
            "_view_count": null,
            "_view_module": "@jupyter-widgets/base",
            "_view_module_version": "1.2.0",
            "_view_name": "LayoutView",
            "align_content": null,
            "align_items": null,
            "align_self": null,
            "border": null,
            "bottom": null,
            "display": null,
            "flex": null,
            "flex_flow": null,
            "grid_area": null,
            "grid_auto_columns": null,
            "grid_auto_flow": null,
            "grid_auto_rows": null,
            "grid_column": null,
            "grid_gap": null,
            "grid_row": null,
            "grid_template_areas": null,
            "grid_template_columns": null,
            "grid_template_rows": null,
            "height": null,
            "justify_content": null,
            "justify_items": null,
            "left": null,
            "margin": null,
            "max_height": null,
            "max_width": null,
            "min_height": null,
            "min_width": null,
            "object_fit": null,
            "object_position": null,
            "order": null,
            "overflow": null,
            "overflow_x": null,
            "overflow_y": null,
            "padding": null,
            "right": null,
            "top": null,
            "visibility": null,
            "width": null
          }
        },
        "09481f8c499241c4920e344018c0f2c9": {
          "model_module": "@jupyter-widgets/controls",
          "model_name": "DescriptionStyleModel",
          "model_module_version": "1.5.0",
          "state": {
            "_model_module": "@jupyter-widgets/controls",
            "_model_module_version": "1.5.0",
            "_model_name": "DescriptionStyleModel",
            "_view_count": null,
            "_view_module": "@jupyter-widgets/base",
            "_view_module_version": "1.2.0",
            "_view_name": "StyleView",
            "description_width": ""
          }
        },
        "189395bc1def44ab98739ba9c0ae5c58": {
          "model_module": "@jupyter-widgets/base",
          "model_name": "LayoutModel",
          "model_module_version": "1.2.0",
          "state": {
            "_model_module": "@jupyter-widgets/base",
            "_model_module_version": "1.2.0",
            "_model_name": "LayoutModel",
            "_view_count": null,
            "_view_module": "@jupyter-widgets/base",
            "_view_module_version": "1.2.0",
            "_view_name": "LayoutView",
            "align_content": null,
            "align_items": null,
            "align_self": null,
            "border": null,
            "bottom": null,
            "display": null,
            "flex": null,
            "flex_flow": null,
            "grid_area": null,
            "grid_auto_columns": null,
            "grid_auto_flow": null,
            "grid_auto_rows": null,
            "grid_column": null,
            "grid_gap": null,
            "grid_row": null,
            "grid_template_areas": null,
            "grid_template_columns": null,
            "grid_template_rows": null,
            "height": null,
            "justify_content": null,
            "justify_items": null,
            "left": null,
            "margin": null,
            "max_height": null,
            "max_width": null,
            "min_height": null,
            "min_width": null,
            "object_fit": null,
            "object_position": null,
            "order": null,
            "overflow": null,
            "overflow_x": null,
            "overflow_y": null,
            "padding": null,
            "right": null,
            "top": null,
            "visibility": null,
            "width": null
          }
        },
        "baf7a3b56f1840caa3e7269673b49a51": {
          "model_module": "@jupyter-widgets/controls",
          "model_name": "ProgressStyleModel",
          "model_module_version": "1.5.0",
          "state": {
            "_model_module": "@jupyter-widgets/controls",
            "_model_module_version": "1.5.0",
            "_model_name": "ProgressStyleModel",
            "_view_count": null,
            "_view_module": "@jupyter-widgets/base",
            "_view_module_version": "1.2.0",
            "_view_name": "StyleView",
            "bar_color": null,
            "description_width": ""
          }
        },
        "014c75bad52e43fb8f2762d86128587a": {
          "model_module": "@jupyter-widgets/base",
          "model_name": "LayoutModel",
          "model_module_version": "1.2.0",
          "state": {
            "_model_module": "@jupyter-widgets/base",
            "_model_module_version": "1.2.0",
            "_model_name": "LayoutModel",
            "_view_count": null,
            "_view_module": "@jupyter-widgets/base",
            "_view_module_version": "1.2.0",
            "_view_name": "LayoutView",
            "align_content": null,
            "align_items": null,
            "align_self": null,
            "border": null,
            "bottom": null,
            "display": null,
            "flex": null,
            "flex_flow": null,
            "grid_area": null,
            "grid_auto_columns": null,
            "grid_auto_flow": null,
            "grid_auto_rows": null,
            "grid_column": null,
            "grid_gap": null,
            "grid_row": null,
            "grid_template_areas": null,
            "grid_template_columns": null,
            "grid_template_rows": null,
            "height": null,
            "justify_content": null,
            "justify_items": null,
            "left": null,
            "margin": null,
            "max_height": null,
            "max_width": null,
            "min_height": null,
            "min_width": null,
            "object_fit": null,
            "object_position": null,
            "order": null,
            "overflow": null,
            "overflow_x": null,
            "overflow_y": null,
            "padding": null,
            "right": null,
            "top": null,
            "visibility": null,
            "width": null
          }
        },
        "177dff21e67646db8401a990e3be316f": {
          "model_module": "@jupyter-widgets/controls",
          "model_name": "DescriptionStyleModel",
          "model_module_version": "1.5.0",
          "state": {
            "_model_module": "@jupyter-widgets/controls",
            "_model_module_version": "1.5.0",
            "_model_name": "DescriptionStyleModel",
            "_view_count": null,
            "_view_module": "@jupyter-widgets/base",
            "_view_module_version": "1.2.0",
            "_view_name": "StyleView",
            "description_width": ""
          }
        }
      }
    }
  },
  "cells": [
    {
      "cell_type": "code",
      "source": [
        "!pip install transformers --quiet"
      ],
      "metadata": {
        "colab": {
          "base_uri": "https://localhost:8080/"
        },
        "id": "Q7ySWvJbBpbX",
        "outputId": "1fca1be1-de55-4510-b732-3dd8b19a379a"
      },
      "execution_count": 3,
      "outputs": [
        {
          "output_type": "stream",
          "name": "stdout",
          "text": [
            "\u001b[K     |████████████████████████████████| 4.2 MB 17.2 MB/s \n",
            "\u001b[K     |████████████████████████████████| 6.6 MB 45.5 MB/s \n",
            "\u001b[K     |████████████████████████████████| 596 kB 53.0 MB/s \n",
            "\u001b[K     |████████████████████████████████| 86 kB 6.2 MB/s \n",
            "\u001b[?25h"
          ]
        }
      ]
    },
    {
      "cell_type": "code",
      "source": [
        "from google.colab import drive\n",
        "drive.mount('/content/drive')"
      ],
      "metadata": {
        "colab": {
          "base_uri": "https://localhost:8080/"
        },
        "id": "T1PCaoO0ex5T",
        "outputId": "89bcb14f-7dd4-4216-c97e-c7493f054d76"
      },
      "execution_count": 4,
      "outputs": [
        {
          "output_type": "stream",
          "name": "stdout",
          "text": [
            "Mounted at /content/drive\n"
          ]
        }
      ]
    },
    {
      "cell_type": "code",
      "source": [
        "import pandas as pd\n",
        "from sklearn.metrics import classification_report\n",
        "from sklearn.metrics import roc_auc_score\n",
        "import torch\n",
        "from torch import nn\n",
        "from torch.utils.data import Dataset, TensorDataset, DataLoader\n",
        "import numpy as np\n",
        "from transformers import AutoTokenizer, AutoModelForSequenceClassification\n",
        "from transformers import AdamW\n",
        "import time\n",
        "from tqdm import tqdm\n",
        "import string\n",
        "from scipy.special import softmax"
      ],
      "metadata": {
        "id": "_Yx5BN_-fuX1"
      },
      "execution_count": 5,
      "outputs": []
    },
    {
      "cell_type": "code",
      "source": [
        "train_path = '/content/drive/MyDrive/Colab Notebooks/Multilingual Classification/train.xlsx'\n",
        "test_path = '/content/drive/MyDrive/Colab Notebooks/Multilingual Classification/test.xlsx'\n",
        "valid_path = '/content/drive/MyDrive/Colab Notebooks/Multilingual Classification/valid.xlsx'"
      ],
      "metadata": {
        "id": "p657Q72sfPgd"
      },
      "execution_count": 6,
      "outputs": []
    },
    {
      "cell_type": "code",
      "source": [
        "device = \"cuda\" if torch.cuda.is_available() else \"cpu\"\n",
        "device"
      ],
      "metadata": {
        "colab": {
          "base_uri": "https://localhost:8080/",
          "height": 35
        },
        "id": "sS4oIGT-ZSmQ",
        "outputId": "c8d01e4c-087b-4eb9-88c0-83298bb0e476"
      },
      "execution_count": 7,
      "outputs": [
        {
          "output_type": "execute_result",
          "data": {
            "text/plain": [
              "'cuda'"
            ],
            "application/vnd.google.colaboratory.intrinsic+json": {
              "type": "string"
            }
          },
          "metadata": {},
          "execution_count": 7
        }
      ]
    },
    {
      "cell_type": "code",
      "source": [
        "def source_preprocess(text):\n",
        "  text = text.lower()\n",
        "  text = text.translate(str.maketrans(string.punctuation, ' ' * len(string.punctuation)))\n",
        "  return text\n",
        "\n",
        "def target_preprocess(text):\n",
        "  punctuations = string.punctuation + \"؟«»؛،\"\n",
        "  text = text.translate(str.maketrans(punctuations, ' ' * len(punctuations)))\n",
        "  return text"
      ],
      "metadata": {
        "id": "o9udwvb75Pqx"
      },
      "execution_count": 8,
      "outputs": []
    },
    {
      "cell_type": "code",
      "source": [
        "class CustomDataset(Dataset):\n",
        "    \n",
        "    def __init__(self, dataframe, labels, tokenizer, features, features_preprocess, max_len):\n",
        "        self.dataframe = dataframe\n",
        "        self.labels = labels\n",
        "        self.tokenizer = tokenizer\n",
        "        self.features_preprocess = features_preprocess\n",
        "        self.max_len = max_len\n",
        "        self.features = features\n",
        "        \n",
        "    def get_dataset(self):\n",
        "      input_ids = []\n",
        "      attention_masks = []\n",
        "      targets = []\n",
        "      for index, row in self.dataframe.iterrows():\n",
        "        if row['category'] not in self.labels.keys():\n",
        "          continue\n",
        "        target = self.labels[row['category']]\n",
        "        combined_encoded = []\n",
        "        for i, (feature, preprocess) in enumerate(zip(self.features, self.features_preprocess)):\n",
        "          combined_encoded += self.tokenizer.encode(preprocess(row[feature]), add_special_tokens=False)\n",
        "          if i < len(self.features) - 1:\n",
        "            combined_encoded += [self.tokenizer.sep_token_id]\n",
        "        if len(combined_encoded) > self.max_len:\n",
        "          combined_encoded = combined_encoded[:self.max_len]\n",
        "        attention_mask = [1] * len(combined_encoded)\n",
        "        padded_combined_encoded = combined_encoded + [1] * (self.max_len - len(combined_encoded))\n",
        "        padded_attention_mask = attention_mask + [0] * (self.max_len - len(attention_mask))\n",
        "        input_ids.append(padded_combined_encoded)\n",
        "        attention_masks.append(padded_attention_mask)\n",
        "        targets.append(target)\n",
        "      input_ids = torch.tensor(input_ids)\n",
        "      attention_masks = torch.tensor(attention_masks)\n",
        "      targets = torch.tensor(targets)\n",
        "      return TensorDataset(input_ids, attention_masks, targets)\n",
        "\n",
        "def create_data_loader(dataframe, labels, tokenizer, features, features_preprocess, max_len, batch_size):\n",
        "    dataset = CustomDataset(dataframe, labels, tokenizer, features, features_preprocess, max_len)\n",
        "    return DataLoader(dataset.get_dataset(), batch_size = batch_size)"
      ],
      "metadata": {
        "id": "tBUPUCrO8d24"
      },
      "execution_count": 9,
      "outputs": []
    },
    {
      "cell_type": "code",
      "source": [
        "def eval(model, dataloader, data_len, device):\n",
        "  model.eval()\n",
        "  y_preds = np.array([])\n",
        "  y_probs = None\n",
        "  y_trues = np.array([])\n",
        "  losses = []\n",
        "  correct_preds = 0\n",
        "  with torch.no_grad():\n",
        "    for d in tqdm(dataloader):\n",
        "      input_ids = d[0].to(device)\n",
        "      attention_mask = d[1].to(device)\n",
        "      targets = d[2].to(device)\n",
        "      y_trues = np.concatenate((y_trues, targets.cpu().numpy().copy()), axis=0)\n",
        "      outputs = model(input_ids, attention_mask=attention_mask, labels=targets)\n",
        "      y_prob = softmax(outputs.logits.cpu().tolist(), axis=1)\n",
        "      if y_probs is None:\n",
        "        y_probs = y_prob\n",
        "      else:  \n",
        "        y_probs = np.concatenate((y_probs, y_prob), axis=0)\n",
        "      _, preds = torch.max(outputs.logits, dim=1)\n",
        "      y_preds = np.concatenate((y_preds, preds.cpu().numpy().copy()), axis=0)\n",
        "      loss = outputs.loss\n",
        "      correct_preds += torch.sum(preds == targets)\n",
        "      losses.append(loss.item())\n",
        "  acc = correct_preds / data_len\n",
        "  loss = np.mean(losses)\n",
        "  return y_probs, y_preds, y_trues, acc, loss"
      ],
      "metadata": {
        "id": "--m3tf9IWF7C"
      },
      "execution_count": 10,
      "outputs": []
    },
    {
      "cell_type": "code",
      "source": [
        "def train(model, train_dataloader, eval_dataloader, train_data_len, eval_data_len, device, epochs):\n",
        "  optimizer = AdamW(model.parameters(), lr=3e-5)\n",
        "  for epoch in range(epochs):\n",
        "    start = time.time()\n",
        "    model.train()\n",
        "    losses = []\n",
        "    correct_preds = 0\n",
        "    for d in tqdm(train_dataloader):\n",
        "      input_ids = d[0].to(device)\n",
        "      attention_mask = d[1].to(device)\n",
        "      targets = d[2].to(device)\n",
        "      outputs = model(input_ids, attention_mask=attention_mask, labels=targets)\n",
        "      _, preds = torch.max(outputs.logits, dim=1)\n",
        "      loss = outputs.loss\n",
        "      loss.backward()\n",
        "      optimizer.step()\n",
        "      optimizer.zero_grad()\n",
        "      correct_preds += torch.sum(preds == targets)\n",
        "      losses.append(loss.item())\n",
        "    train_acc = correct_preds / train_data_len\n",
        "    train_loss = np.mean(losses)\n",
        "    _, _, _, eval_acc, eval_loss = eval(model, eval_dataloader, eval_data_len, device)\n",
        "    iter_time = time.time() - start\n",
        "    print(f\"epoch {epoch + 1} -- train accuracy: {train_acc}, train loss: {train_loss}, validation accuracy: {eval_acc}, validation loss: {eval_loss}, epoch time: {int(iter_time)} (s)\")"
      ],
      "metadata": {
        "id": "xCm1xIjFWcmM"
      },
      "execution_count": 11,
      "outputs": []
    },
    {
      "cell_type": "code",
      "source": [
        "train_df = pd.read_excel(train_path)\n",
        "test_df = pd.read_excel(test_path)\n",
        "valid_df = pd.read_excel(valid_path)\n",
        "labels = {\"quran\": 0, \"bible\": 1, \"mizan\": 2}"
      ],
      "metadata": {
        "id": "VSqgyV56fPa8"
      },
      "execution_count": 12,
      "outputs": []
    },
    {
      "cell_type": "code",
      "source": [
        "tokenizer = AutoTokenizer.from_pretrained('distilroberta-base')\n",
        "train_loader = create_data_loader(train_df, labels, tokenizer, ['source'], [source_preprocess], 128, 32)\n",
        "eval_loader = create_data_loader(valid_df, labels, tokenizer, ['source'], [source_preprocess], 128, 32)\n",
        "test_loader = create_data_loader(test_df, labels, tokenizer, ['source'], [source_preprocess], 128, 32)\n",
        "model = AutoModelForSequenceClassification.from_pretrained('distilroberta-base', num_labels=3)\n",
        "model.to(device)\n",
        "train(model, train_loader, eval_loader, len(train_df), len(valid_df), device, 10)\n",
        "y_probs, y_preds, y_trues, test_acc, test_loss = eval(model, test_loader, len(test_df), device)\n",
        "print(f\"test accuracy: {test_acc}, test loss: {test_loss}\")\n",
        "print()\n",
        "print(classification_report(y_trues.tolist(), y_preds.tolist(), labels=list(labels.values()), target_names=list(labels.keys())))\n",
        "y_trues_onehot = []\n",
        "for y_true in y_trues.tolist():\n",
        "  temp = [0] * len(labels.keys())\n",
        "  temp[int(y_true)] = 1\n",
        "  y_trues_onehot.append(temp)\n",
        "print(roc_auc_score(y_trues_onehot, y_probs.tolist()))"
      ],
      "metadata": {
        "colab": {
          "base_uri": "https://localhost:8080/"
        },
        "id": "zqCsk49OClJ7",
        "outputId": "e055215f-1e24-4dff-f6fe-5977faafc5de"
      },
      "execution_count": 14,
      "outputs": [
        {
          "output_type": "stream",
          "name": "stderr",
          "text": [
            "Some weights of the model checkpoint at distilroberta-base were not used when initializing RobertaForSequenceClassification: ['lm_head.decoder.weight', 'roberta.pooler.dense.bias', 'lm_head.dense.bias', 'lm_head.bias', 'roberta.pooler.dense.weight', 'lm_head.layer_norm.weight', 'lm_head.dense.weight', 'lm_head.layer_norm.bias']\n",
            "- This IS expected if you are initializing RobertaForSequenceClassification from the checkpoint of a model trained on another task or with another architecture (e.g. initializing a BertForSequenceClassification model from a BertForPreTraining model).\n",
            "- This IS NOT expected if you are initializing RobertaForSequenceClassification from the checkpoint of a model that you expect to be exactly identical (initializing a BertForSequenceClassification model from a BertForSequenceClassification model).\n",
            "Some weights of RobertaForSequenceClassification were not initialized from the model checkpoint at distilroberta-base and are newly initialized: ['classifier.dense.bias', 'classifier.out_proj.bias', 'classifier.out_proj.weight', 'classifier.dense.weight']\n",
            "You should probably TRAIN this model on a down-stream task to be able to use it for predictions and inference.\n",
            "/usr/local/lib/python3.7/dist-packages/transformers/optimization.py:309: FutureWarning: This implementation of AdamW is deprecated and will be removed in a future version. Use the PyTorch implementation torch.optim.AdamW instead, or set `no_deprecation_warning=True` to disable this warning\n",
            "  FutureWarning,\n",
            "100%|██████████| 394/394 [02:05<00:00,  3.13it/s]\n",
            "100%|██████████| 85/85 [00:09<00:00,  9.38it/s]\n"
          ]
        },
        {
          "output_type": "stream",
          "name": "stdout",
          "text": [
            "epoch 1 -- train accuracy: 0.8817459940910339, train loss: 0.3027635833938715, validation accuracy: 0.9388889074325562, validation loss: 0.16611239746322526, epoch time: 134 (s)\n"
          ]
        },
        {
          "output_type": "stream",
          "name": "stderr",
          "text": [
            "100%|██████████| 394/394 [02:12<00:00,  2.98it/s]\n",
            "100%|██████████| 85/85 [00:09<00:00,  9.10it/s]\n"
          ]
        },
        {
          "output_type": "stream",
          "name": "stdout",
          "text": [
            "epoch 2 -- train accuracy: 0.9562698006629944, train loss: 0.12782378796237487, validation accuracy: 0.9544444680213928, validation loss: 0.1387679290437304, epoch time: 141 (s)\n"
          ]
        },
        {
          "output_type": "stream",
          "name": "stderr",
          "text": [
            "100%|██████████| 394/394 [02:14<00:00,  2.93it/s]\n",
            "100%|██████████| 85/85 [00:09<00:00,  9.01it/s]\n"
          ]
        },
        {
          "output_type": "stream",
          "name": "stdout",
          "text": [
            "epoch 3 -- train accuracy: 0.9742856621742249, train loss: 0.0773935271102018, validation accuracy: 0.9518518447875977, validation loss: 0.1598546664661947, epoch time: 144 (s)\n"
          ]
        },
        {
          "output_type": "stream",
          "name": "stderr",
          "text": [
            "100%|██████████| 394/394 [02:15<00:00,  2.91it/s]\n",
            "100%|██████████| 85/85 [00:09<00:00,  8.97it/s]\n"
          ]
        },
        {
          "output_type": "stream",
          "name": "stdout",
          "text": [
            "epoch 4 -- train accuracy: 0.9825396537780762, train loss: 0.054035907578158196, validation accuracy: 0.9529629349708557, validation loss: 0.17840492739033995, epoch time: 145 (s)\n"
          ]
        },
        {
          "output_type": "stream",
          "name": "stderr",
          "text": [
            "100%|██████████| 394/394 [02:15<00:00,  2.90it/s]\n",
            "100%|██████████| 85/85 [00:09<00:00,  9.02it/s]\n"
          ]
        },
        {
          "output_type": "stream",
          "name": "stdout",
          "text": [
            "epoch 5 -- train accuracy: 0.989444375038147, train loss: 0.0319886847938704, validation accuracy: 0.962592601776123, validation loss: 0.15189235407400273, epoch time: 145 (s)\n"
          ]
        },
        {
          "output_type": "stream",
          "name": "stderr",
          "text": [
            "100%|██████████| 394/394 [02:15<00:00,  2.91it/s]\n",
            "100%|██████████| 85/85 [00:09<00:00,  9.01it/s]\n"
          ]
        },
        {
          "output_type": "stream",
          "name": "stdout",
          "text": [
            "epoch 6 -- train accuracy: 0.9913491606712341, train loss: 0.025349220020391004, validation accuracy: 0.9559259414672852, validation loss: 0.1594332077584969, epoch time: 144 (s)\n"
          ]
        },
        {
          "output_type": "stream",
          "name": "stderr",
          "text": [
            "100%|██████████| 394/394 [02:15<00:00,  2.91it/s]\n",
            "100%|██████████| 85/85 [00:09<00:00,  9.03it/s]\n"
          ]
        },
        {
          "output_type": "stream",
          "name": "stdout",
          "text": [
            "epoch 7 -- train accuracy: 0.9919047355651855, train loss: 0.023930799382012504, validation accuracy: 0.9618518352508545, validation loss: 0.1551444893678897, epoch time: 144 (s)\n"
          ]
        },
        {
          "output_type": "stream",
          "name": "stderr",
          "text": [
            "100%|██████████| 394/394 [02:15<00:00,  2.91it/s]\n",
            "100%|██████████| 85/85 [00:09<00:00,  9.03it/s]\n"
          ]
        },
        {
          "output_type": "stream",
          "name": "stdout",
          "text": [
            "epoch 8 -- train accuracy: 0.9946824908256531, train loss: 0.015960794676678505, validation accuracy: 0.9577777981758118, validation loss: 0.15086497230736046, epoch time: 144 (s)\n"
          ]
        },
        {
          "output_type": "stream",
          "name": "stderr",
          "text": [
            "100%|██████████| 394/394 [02:15<00:00,  2.91it/s]\n",
            "100%|██████████| 85/85 [00:09<00:00,  9.03it/s]\n"
          ]
        },
        {
          "output_type": "stream",
          "name": "stdout",
          "text": [
            "epoch 9 -- train accuracy: 0.9932539463043213, train loss: 0.020318056168734937, validation accuracy: 0.9611111283302307, validation loss: 0.14836927055884563, epoch time: 144 (s)\n"
          ]
        },
        {
          "output_type": "stream",
          "name": "stderr",
          "text": [
            "100%|██████████| 394/394 [02:15<00:00,  2.91it/s]\n",
            "100%|██████████| 85/85 [00:09<00:00,  9.01it/s]\n"
          ]
        },
        {
          "output_type": "stream",
          "name": "stdout",
          "text": [
            "epoch 10 -- train accuracy: 0.9962698221206665, train loss: 0.01232254984794506, validation accuracy: 0.9603703618049622, validation loss: 0.18139371232537088, epoch time: 144 (s)\n"
          ]
        },
        {
          "output_type": "stream",
          "name": "stderr",
          "text": [
            "100%|██████████| 85/85 [00:09<00:00,  9.03it/s]"
          ]
        },
        {
          "output_type": "stream",
          "name": "stdout",
          "text": [
            "test accuracy: 0.9685184955596924, test loss: 0.14640078320568564\n",
            "\n",
            "              precision    recall  f1-score   support\n",
            "\n",
            "       quran       0.96      0.97      0.97       900\n",
            "       bible       0.96      0.98      0.97       900\n",
            "       mizan       0.98      0.95      0.97       900\n",
            "\n",
            "    accuracy                           0.97      2700\n",
            "   macro avg       0.97      0.97      0.97      2700\n",
            "weighted avg       0.97      0.97      0.97      2700\n",
            "\n",
            "0.9965351851851851\n"
          ]
        },
        {
          "output_type": "stream",
          "name": "stderr",
          "text": [
            "\n"
          ]
        }
      ]
    },
    {
      "cell_type": "code",
      "source": [
        "tokenizer = AutoTokenizer.from_pretrained('HooshvareLab/bert-base-parsbert-uncased')\n",
        "train_loader = create_data_loader(train_df, labels, tokenizer, ['targets'], [target_preprocess], 128, 32)\n",
        "eval_loader = create_data_loader(valid_df, labels, tokenizer, ['targets'], [target_preprocess], 128, 32)\n",
        "test_loader = create_data_loader(test_df, labels, tokenizer, ['targets'], [target_preprocess], 128, 32)\n",
        "model = AutoModelForSequenceClassification.from_pretrained('HooshvareLab/bert-base-parsbert-uncased', num_labels=3)\n",
        "model.to(device)\n",
        "train(model, train_loader, eval_loader, len(train_df), len(valid_df), device, 10)\n",
        "y_probs, y_preds, y_trues, test_acc, test_loss = eval(model, test_loader, len(test_df), device)\n",
        "print(f\"test accuracy: {test_acc}, test loss: {test_loss}\")\n",
        "print()\n",
        "print(classification_report(y_trues.tolist(), y_preds.tolist(), labels=list(labels.values()), target_names=list(labels.keys())))\n",
        "y_trues_onehot = []\n",
        "for y_true in y_trues.tolist():\n",
        "  temp = [0] * len(labels.keys())\n",
        "  temp[int(y_true)] = 1\n",
        "  y_trues_onehot.append(temp)\n",
        "print(roc_auc_score(y_trues_onehot, y_probs.tolist()))"
      ],
      "metadata": {
        "colab": {
          "base_uri": "https://localhost:8080/"
        },
        "id": "9iUn2lQiah2r",
        "outputId": "64078a08-9fc5-4b24-eda4-3701b0484175"
      },
      "execution_count": 16,
      "outputs": [
        {
          "output_type": "stream",
          "name": "stderr",
          "text": [
            "Some weights of the model checkpoint at HooshvareLab/bert-base-parsbert-uncased were not used when initializing BertForSequenceClassification: ['cls.predictions.transform.LayerNorm.weight', 'cls.predictions.transform.LayerNorm.bias', 'cls.predictions.decoder.bias', 'cls.predictions.transform.dense.bias', 'cls.predictions.transform.dense.weight', 'cls.predictions.decoder.weight', 'cls.seq_relationship.weight', 'cls.predictions.bias', 'cls.seq_relationship.bias']\n",
            "- This IS expected if you are initializing BertForSequenceClassification from the checkpoint of a model trained on another task or with another architecture (e.g. initializing a BertForSequenceClassification model from a BertForPreTraining model).\n",
            "- This IS NOT expected if you are initializing BertForSequenceClassification from the checkpoint of a model that you expect to be exactly identical (initializing a BertForSequenceClassification model from a BertForSequenceClassification model).\n",
            "Some weights of BertForSequenceClassification were not initialized from the model checkpoint at HooshvareLab/bert-base-parsbert-uncased and are newly initialized: ['classifier.bias', 'classifier.weight']\n",
            "You should probably TRAIN this model on a down-stream task to be able to use it for predictions and inference.\n",
            "/usr/local/lib/python3.7/dist-packages/transformers/optimization.py:309: FutureWarning: This implementation of AdamW is deprecated and will be removed in a future version. Use the PyTorch implementation torch.optim.AdamW instead, or set `no_deprecation_warning=True` to disable this warning\n",
            "  FutureWarning,\n",
            "100%|██████████| 394/394 [04:19<00:00,  1.52it/s]\n",
            "100%|██████████| 85/85 [00:20<00:00,  4.14it/s]\n"
          ]
        },
        {
          "output_type": "stream",
          "name": "stdout",
          "text": [
            "epoch 1 -- train accuracy: 0.9173809289932251, train loss: 0.23440470377002195, validation accuracy: 0.9496296048164368, validation loss: 0.14247339216663557, epoch time: 280 (s)\n"
          ]
        },
        {
          "output_type": "stream",
          "name": "stderr",
          "text": [
            "100%|██████████| 394/394 [04:33<00:00,  1.44it/s]\n",
            "100%|██████████| 85/85 [00:21<00:00,  4.04it/s]\n"
          ]
        },
        {
          "output_type": "stream",
          "name": "stdout",
          "text": [
            "epoch 2 -- train accuracy: 0.9835714101791382, train loss: 0.05329522771434622, validation accuracy: 0.9548147916793823, validation loss: 0.15390689375344663, epoch time: 294 (s)\n"
          ]
        },
        {
          "output_type": "stream",
          "name": "stderr",
          "text": [
            "100%|██████████| 394/394 [04:34<00:00,  1.43it/s]\n",
            "100%|██████████| 85/85 [00:21<00:00,  4.02it/s]\n"
          ]
        },
        {
          "output_type": "stream",
          "name": "stdout",
          "text": [
            "epoch 3 -- train accuracy: 0.9927777647972107, train loss: 0.02354339202987101, validation accuracy: 0.9507407546043396, validation loss: 0.2062645820544704, epoch time: 296 (s)\n"
          ]
        },
        {
          "output_type": "stream",
          "name": "stderr",
          "text": [
            "100%|██████████| 394/394 [04:34<00:00,  1.44it/s]\n",
            "100%|██████████| 85/85 [00:20<00:00,  4.07it/s]\n"
          ]
        },
        {
          "output_type": "stream",
          "name": "stdout",
          "text": [
            "epoch 4 -- train accuracy: 0.9924602508544922, train loss: 0.024050804120541648, validation accuracy: 0.9559259414672852, validation loss: 0.20557230056660689, epoch time: 295 (s)\n"
          ]
        },
        {
          "output_type": "stream",
          "name": "stderr",
          "text": [
            "100%|██████████| 394/394 [04:34<00:00,  1.44it/s]\n",
            "100%|██████████| 85/85 [00:20<00:00,  4.07it/s]\n"
          ]
        },
        {
          "output_type": "stream",
          "name": "stdout",
          "text": [
            "epoch 5 -- train accuracy: 0.9957935810089111, train loss: 0.013576697874613353, validation accuracy: 0.9522222280502319, validation loss: 0.19389825715505354, epoch time: 295 (s)\n"
          ]
        },
        {
          "output_type": "stream",
          "name": "stderr",
          "text": [
            "100%|██████████| 394/394 [04:34<00:00,  1.44it/s]\n",
            "100%|██████████| 85/85 [00:20<00:00,  4.07it/s]\n"
          ]
        },
        {
          "output_type": "stream",
          "name": "stdout",
          "text": [
            "epoch 6 -- train accuracy: 0.9973809123039246, train loss: 0.008485944200083164, validation accuracy: 0.9585185050964355, validation loss: 0.1999495416155482, epoch time: 295 (s)\n"
          ]
        },
        {
          "output_type": "stream",
          "name": "stderr",
          "text": [
            "100%|██████████| 394/394 [04:34<00:00,  1.44it/s]\n",
            "100%|██████████| 85/85 [00:20<00:00,  4.07it/s]\n"
          ]
        },
        {
          "output_type": "stream",
          "name": "stdout",
          "text": [
            "epoch 7 -- train accuracy: 0.9966666102409363, train loss: 0.010207535408858001, validation accuracy: 0.9618518352508545, validation loss: 0.154112584869076, epoch time: 294 (s)\n"
          ]
        },
        {
          "output_type": "stream",
          "name": "stderr",
          "text": [
            "100%|██████████| 394/394 [04:34<00:00,  1.44it/s]\n",
            "100%|██████████| 85/85 [00:20<00:00,  4.05it/s]\n"
          ]
        },
        {
          "output_type": "stream",
          "name": "stdout",
          "text": [
            "epoch 8 -- train accuracy: 0.9983332753181458, train loss: 0.0050290050529270625, validation accuracy: 0.9633333086967468, validation loss: 0.18110515704765395, epoch time: 295 (s)\n"
          ]
        },
        {
          "output_type": "stream",
          "name": "stderr",
          "text": [
            "100%|██████████| 394/394 [04:34<00:00,  1.44it/s]\n",
            "100%|██████████| 85/85 [00:20<00:00,  4.09it/s]\n"
          ]
        },
        {
          "output_type": "stream",
          "name": "stdout",
          "text": [
            "epoch 9 -- train accuracy: 0.99698406457901, train loss: 0.01084776659673263, validation accuracy: 0.9629629850387573, validation loss: 0.188694906098638, epoch time: 294 (s)\n"
          ]
        },
        {
          "output_type": "stream",
          "name": "stderr",
          "text": [
            "100%|██████████| 394/394 [04:34<00:00,  1.44it/s]\n",
            "100%|██████████| 85/85 [00:20<00:00,  4.07it/s]\n"
          ]
        },
        {
          "output_type": "stream",
          "name": "stdout",
          "text": [
            "epoch 10 -- train accuracy: 0.9973809123039246, train loss: 0.007832258763956644, validation accuracy: 0.9592592716217041, validation loss: 0.18659333516124582, epoch time: 295 (s)\n"
          ]
        },
        {
          "output_type": "stream",
          "name": "stderr",
          "text": [
            "100%|██████████| 85/85 [00:20<00:00,  4.07it/s]"
          ]
        },
        {
          "output_type": "stream",
          "name": "stdout",
          "text": [
            "test accuracy: 0.9577777981758118, test loss: 0.19726977458665393\n",
            "\n",
            "              precision    recall  f1-score   support\n",
            "\n",
            "       quran       0.96      0.96      0.96       900\n",
            "       bible       0.98      0.94      0.96       900\n",
            "       mizan       0.93      0.97      0.95       900\n",
            "\n",
            "    accuracy                           0.96      2700\n",
            "   macro avg       0.96      0.96      0.96      2700\n",
            "weighted avg       0.96      0.96      0.96      2700\n",
            "\n",
            "0.9957053497942386\n"
          ]
        },
        {
          "output_type": "stream",
          "name": "stderr",
          "text": [
            "\n"
          ]
        }
      ]
    },
    {
      "cell_type": "code",
      "source": [
        "tokenizer = AutoTokenizer.from_pretrained('xlm-roberta-base')\n",
        "train_loader = create_data_loader(train_df, labels, tokenizer, ['source', 'targets'], [source_preprocess, target_preprocess], 128, 32)\n",
        "eval_loader = create_data_loader(valid_df, labels, tokenizer, ['source', 'targets'], [source_preprocess, target_preprocess], 128, 32)\n",
        "test_loader = create_data_loader(test_df, labels, tokenizer, ['source', 'targets'], [source_preprocess, target_preprocess], 128, 32)\n",
        "model = AutoModelForSequenceClassification.from_pretrained('xlm-roberta-base', num_labels=3)\n",
        "model.to(device)\n",
        "train(model, train_loader, eval_loader, len(train_df), len(valid_df), device, 10)\n",
        "y_probs, y_preds, y_trues, test_acc, test_loss = eval(model, test_loader, len(test_df), device)\n",
        "print(f\"test accuracy: {test_acc}, test loss: {test_loss}\")\n",
        "print()\n",
        "print(classification_report(y_trues.tolist(), y_preds.tolist(), labels=list(labels.values()), target_names=list(labels.keys())))\n",
        "y_trues_onehot = []\n",
        "for y_true in y_trues.tolist():\n",
        "  temp = [0] * len(labels.keys())\n",
        "  temp[int(y_true)] = 1\n",
        "  y_trues_onehot.append(temp)\n",
        "print(roc_auc_score(y_trues_onehot, y_probs.tolist()))"
      ],
      "metadata": {
        "colab": {
          "base_uri": "https://localhost:8080/",
          "height": 1000,
          "referenced_widgets": [
            "2ff88eeefee14eba8eea8b06b20ed6e5",
            "496a2483faa8494289ac7352e34ef75d",
            "cbe057dda78c4263a44c9289fa5713be",
            "80243318506e4c72a6503693a5af769c",
            "20fb3ef3456f4afb8dc4f412c30326ca",
            "39710ad5bfe948e4b92dc7a2ff9aa469",
            "28d7c44a23fa413e936eadcae0efb6ef",
            "4a9418c04bb64a159d31e7efbbae430b",
            "f3292675cefe4c48a95b96f5ae0a1144",
            "3d915a88564b47b597ba3cab80bebfd0",
            "08b75d79991e455ab0d23efaf0c66ed0",
            "b581f52980194d059737da8131917f58",
            "dcfd5a28dadb40b2bb08dd91f720f780",
            "2a0188f4b2474ec1a69b768cf4858beb",
            "6f961ae4e008468a99e17cfaae9985d1",
            "af922ef17e7e4664b0545bdcfefa924a",
            "f0ae98900d96434899cdb5d44aeb2d73",
            "535ef20bb6b044cc9c87629260903ba0",
            "90f0bb7567c74968be051cd69218b7b6",
            "ddcb7ccb7df44f36a738b3f47042a476",
            "6eeff81d51bc486fb1c85f4b92491568",
            "ba93996a1723402186d2ddb389f8bd86",
            "3bf1e864bc57433288e867412501c8db",
            "322b05b519f3438ba56dcea0e3f47d05",
            "b834d48074c948deabf25b4e0d6e875a",
            "b49d998efb1d49768f8f986ef3afd2ec",
            "2f8f0fae7b254f7eb7aff5864d9c5f6f",
            "db8480018bb44160b00d90294810ce17",
            "0fc43cbd96da4187af01771d2b26b75e",
            "f66d19b6494844848bdcaba573acd284",
            "fa0aca86c14c49ee9836eef13710bbd1",
            "e6b274799fa4440bbbaec6a1ce705c67",
            "4145ad93aaae41c6a651bbd4d08ac4f7",
            "1d632ff33dc74a4a884183056b8e6556",
            "5d714f2e4dfa44d592b27b23eb80624c",
            "dfb473408caa48c690bde59a6aa3e9cd",
            "31defc4f1e7a47699982dfb7dd150e34",
            "53dbeafacc9144d686aad1140a83fe45",
            "05a27bf34f1d46f4a5f80b18ad59a3c2",
            "09481f8c499241c4920e344018c0f2c9",
            "189395bc1def44ab98739ba9c0ae5c58",
            "baf7a3b56f1840caa3e7269673b49a51",
            "014c75bad52e43fb8f2762d86128587a",
            "177dff21e67646db8401a990e3be316f"
          ]
        },
        "id": "iq86NMlYmrj7",
        "outputId": "ade1bfe3-f970-41b4-88a4-22a4e986287c"
      },
      "execution_count": 17,
      "outputs": [
        {
          "output_type": "display_data",
          "data": {
            "text/plain": [
              "Downloading:   0%|          | 0.00/615 [00:00<?, ?B/s]"
            ],
            "application/vnd.jupyter.widget-view+json": {
              "version_major": 2,
              "version_minor": 0,
              "model_id": "2ff88eeefee14eba8eea8b06b20ed6e5"
            }
          },
          "metadata": {}
        },
        {
          "output_type": "display_data",
          "data": {
            "text/plain": [
              "Downloading:   0%|          | 0.00/4.83M [00:00<?, ?B/s]"
            ],
            "application/vnd.jupyter.widget-view+json": {
              "version_major": 2,
              "version_minor": 0,
              "model_id": "b581f52980194d059737da8131917f58"
            }
          },
          "metadata": {}
        },
        {
          "output_type": "display_data",
          "data": {
            "text/plain": [
              "Downloading:   0%|          | 0.00/8.68M [00:00<?, ?B/s]"
            ],
            "application/vnd.jupyter.widget-view+json": {
              "version_major": 2,
              "version_minor": 0,
              "model_id": "3bf1e864bc57433288e867412501c8db"
            }
          },
          "metadata": {}
        },
        {
          "output_type": "display_data",
          "data": {
            "text/plain": [
              "Downloading:   0%|          | 0.00/1.04G [00:00<?, ?B/s]"
            ],
            "application/vnd.jupyter.widget-view+json": {
              "version_major": 2,
              "version_minor": 0,
              "model_id": "1d632ff33dc74a4a884183056b8e6556"
            }
          },
          "metadata": {}
        },
        {
          "output_type": "stream",
          "name": "stderr",
          "text": [
            "Some weights of the model checkpoint at xlm-roberta-base were not used when initializing XLMRobertaForSequenceClassification: ['lm_head.decoder.weight', 'roberta.pooler.dense.bias', 'lm_head.dense.bias', 'lm_head.bias', 'roberta.pooler.dense.weight', 'lm_head.layer_norm.weight', 'lm_head.dense.weight', 'lm_head.layer_norm.bias']\n",
            "- This IS expected if you are initializing XLMRobertaForSequenceClassification from the checkpoint of a model trained on another task or with another architecture (e.g. initializing a BertForSequenceClassification model from a BertForPreTraining model).\n",
            "- This IS NOT expected if you are initializing XLMRobertaForSequenceClassification from the checkpoint of a model that you expect to be exactly identical (initializing a BertForSequenceClassification model from a BertForSequenceClassification model).\n",
            "Some weights of XLMRobertaForSequenceClassification were not initialized from the model checkpoint at xlm-roberta-base and are newly initialized: ['classifier.dense.bias', 'classifier.out_proj.bias', 'classifier.out_proj.weight', 'classifier.dense.weight']\n",
            "You should probably TRAIN this model on a down-stream task to be able to use it for predictions and inference.\n",
            "/usr/local/lib/python3.7/dist-packages/transformers/optimization.py:309: FutureWarning: This implementation of AdamW is deprecated and will be removed in a future version. Use the PyTorch implementation torch.optim.AdamW instead, or set `no_deprecation_warning=True` to disable this warning\n",
            "  FutureWarning,\n",
            "100%|██████████| 394/394 [04:58<00:00,  1.32it/s]\n",
            "100%|██████████| 85/85 [00:20<00:00,  4.23it/s]\n"
          ]
        },
        {
          "output_type": "stream",
          "name": "stdout",
          "text": [
            "epoch 1 -- train accuracy: 0.8938888311386108, train loss: 0.2884959740715508, validation accuracy: 0.9699999690055847, validation loss: 0.08951005666407154, epoch time: 318 (s)\n"
          ]
        },
        {
          "output_type": "stream",
          "name": "stderr",
          "text": [
            "100%|██████████| 394/394 [04:57<00:00,  1.32it/s]\n",
            "100%|██████████| 85/85 [00:19<00:00,  4.28it/s]\n"
          ]
        },
        {
          "output_type": "stream",
          "name": "stdout",
          "text": [
            "epoch 2 -- train accuracy: 0.9746031165122986, train loss: 0.08028216300848966, validation accuracy: 0.9733333587646484, validation loss: 0.09048174690071713, epoch time: 317 (s)\n"
          ]
        },
        {
          "output_type": "stream",
          "name": "stderr",
          "text": [
            "100%|██████████| 394/394 [04:57<00:00,  1.32it/s]\n",
            "100%|██████████| 85/85 [00:19<00:00,  4.26it/s]\n"
          ]
        },
        {
          "output_type": "stream",
          "name": "stdout",
          "text": [
            "epoch 3 -- train accuracy: 0.9834126830101013, train loss: 0.0534714408653793, validation accuracy: 0.9748148322105408, validation loss: 0.0871463113457567, epoch time: 317 (s)\n"
          ]
        },
        {
          "output_type": "stream",
          "name": "stderr",
          "text": [
            "100%|██████████| 394/394 [04:57<00:00,  1.32it/s]\n",
            "100%|██████████| 85/85 [00:19<00:00,  4.25it/s]\n"
          ]
        },
        {
          "output_type": "stream",
          "name": "stdout",
          "text": [
            "epoch 4 -- train accuracy: 0.9892063140869141, train loss: 0.03419420129349479, validation accuracy: 0.9803703427314758, validation loss: 0.0844939000055413, epoch time: 317 (s)\n"
          ]
        },
        {
          "output_type": "stream",
          "name": "stderr",
          "text": [
            "100%|██████████| 394/394 [04:57<00:00,  1.32it/s]\n",
            "100%|██████████| 85/85 [00:19<00:00,  4.26it/s]\n"
          ]
        },
        {
          "output_type": "stream",
          "name": "stdout",
          "text": [
            "epoch 5 -- train accuracy: 0.9924602508544922, train loss: 0.02441719312066872, validation accuracy: 0.9774073958396912, validation loss: 0.08037664095583537, epoch time: 317 (s)\n"
          ]
        },
        {
          "output_type": "stream",
          "name": "stderr",
          "text": [
            "100%|██████████| 394/394 [04:57<00:00,  1.32it/s]\n",
            "100%|██████████| 85/85 [00:19<00:00,  4.26it/s]\n"
          ]
        },
        {
          "output_type": "stream",
          "name": "stdout",
          "text": [
            "epoch 6 -- train accuracy: 0.9934920072555542, train loss: 0.022255993803981088, validation accuracy: 0.9751851558685303, validation loss: 0.11264248963390641, epoch time: 317 (s)\n"
          ]
        },
        {
          "output_type": "stream",
          "name": "stderr",
          "text": [
            "100%|██████████| 394/394 [04:57<00:00,  1.32it/s]\n",
            "100%|██████████| 85/85 [00:19<00:00,  4.26it/s]\n"
          ]
        },
        {
          "output_type": "stream",
          "name": "stdout",
          "text": [
            "epoch 7 -- train accuracy: 0.9888888597488403, train loss: 0.035879100975462326, validation accuracy: 0.9770370125770569, validation loss: 0.0798188859343474, epoch time: 317 (s)\n"
          ]
        },
        {
          "output_type": "stream",
          "name": "stderr",
          "text": [
            "100%|██████████| 394/394 [04:57<00:00,  1.32it/s]\n",
            "100%|██████████| 85/85 [00:19<00:00,  4.25it/s]\n"
          ]
        },
        {
          "output_type": "stream",
          "name": "stdout",
          "text": [
            "epoch 8 -- train accuracy: 0.9949999451637268, train loss: 0.015557384288628694, validation accuracy: 0.9729629755020142, validation loss: 0.09980335860163905, epoch time: 317 (s)\n"
          ]
        },
        {
          "output_type": "stream",
          "name": "stderr",
          "text": [
            "100%|██████████| 394/394 [04:57<00:00,  1.32it/s]\n",
            "100%|██████████| 85/85 [00:19<00:00,  4.25it/s]\n"
          ]
        },
        {
          "output_type": "stream",
          "name": "stdout",
          "text": [
            "epoch 9 -- train accuracy: 0.9971427917480469, train loss: 0.008731466723595057, validation accuracy: 0.978518545627594, validation loss: 0.09994845122804262, epoch time: 317 (s)\n"
          ]
        },
        {
          "output_type": "stream",
          "name": "stderr",
          "text": [
            "100%|██████████| 394/394 [04:57<00:00,  1.32it/s]\n",
            "100%|██████████| 85/85 [00:19<00:00,  4.26it/s]\n"
          ]
        },
        {
          "output_type": "stream",
          "name": "stdout",
          "text": [
            "epoch 10 -- train accuracy: 0.9937301278114319, train loss: 0.01918573248442995, validation accuracy: 0.9774073958396912, validation loss: 0.10189671605424819, epoch time: 317 (s)\n"
          ]
        },
        {
          "output_type": "stream",
          "name": "stderr",
          "text": [
            "100%|██████████| 85/85 [00:19<00:00,  4.26it/s]\n"
          ]
        },
        {
          "output_type": "stream",
          "name": "stdout",
          "text": [
            "test accuracy: 0.9740740656852722, test loss: 0.10600230747145628\n",
            "\n",
            "              precision    recall  f1-score   support\n",
            "\n",
            "       quran       0.95      0.99      0.97       900\n",
            "       bible       0.99      0.99      0.99       900\n",
            "       mizan       0.99      0.95      0.97       900\n",
            "\n",
            "    accuracy                           0.97      2700\n",
            "   macro avg       0.97      0.97      0.97      2700\n",
            "weighted avg       0.97      0.97      0.97      2700\n",
            "\n",
            "0.9984164609053497\n"
          ]
        }
      ]
    }
  ]
}