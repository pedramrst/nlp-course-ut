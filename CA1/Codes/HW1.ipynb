{
 "cells": [
  {
   "cell_type": "markdown",
   "metadata": {},
   "source": [
    "# First step"
   ]
  },
  {
   "cell_type": "code",
   "execution_count": 3,
   "metadata": {},
   "outputs": [
    {
     "name": "stdout",
     "output_type": "stream",
     "text": [
      "'lowest' is not in vocabulary\n"
     ]
    }
   ],
   "source": [
    "from collections import defaultdict\n",
    "\n",
    "corpus = \"low \" * 5 + \"lower \" * 2 + \"widest \" * 3 + \"newest \" * 5\n",
    "corpus = corpus.rstrip()\n",
    "\n",
    "def BPE(curpos):\n",
    "    words = corpus.split()\n",
    "    word_freq_dict = defaultdict(int)\n",
    "    for word in words:\n",
    "        chars = list(word)\n",
    "        chars.append('__')\n",
    "        key = tuple(chars)\n",
    "        word_freq_dict[key] += 1\n",
    "    vocabulary = defaultdict(int)\n",
    "    for word, freq in word_freq_dict.items():\n",
    "        for char in word:\n",
    "            vocabulary[char] += freq\n",
    "    while len(vocabulary.keys()) < 30:\n",
    "        pairs_freq_dict = defaultdict(int)\n",
    "        for word, freq in word_freq_dict.items():\n",
    "            for i, next in zip(word, word[1:]):\n",
    "                pairs_freq_dict[i + next] += freq\n",
    "        if not pairs_freq_dict:\n",
    "            break\n",
    "        best_pair = max(pairs_freq_dict, key=pairs_freq_dict.get)\n",
    "        vocabulary[best_pair] = pairs_freq_dict[best_pair]\n",
    "\n",
    "        word_freq_dict_temp = word_freq_dict.copy()\n",
    "        for word, freq in word_freq_dict_temp.items():\n",
    "            new_word = []\n",
    "            skip = False\n",
    "            for i, next in zip(word, word[1:]):\n",
    "                if not skip:\n",
    "                    if i + next == best_pair:\n",
    "                        new_word.append(i + next)\n",
    "                        vocabulary[i] -= freq\n",
    "                        vocabulary[next] -= freq\n",
    "                        skip = True\n",
    "                    else:\n",
    "                        new_word.append(i)\n",
    "                else:\n",
    "                    skip = False\n",
    "            if not skip:\n",
    "                new_word.append(word[-1])\n",
    "            new_word = tuple(new_word)\n",
    "            if word != new_word:\n",
    "                del word_freq_dict[word]\n",
    "                word_freq_dict[new_word] = freq\n",
    "    temp_vocabulary = vocabulary.copy()\n",
    "    for word, freq in temp_vocabulary.items():\n",
    "        if freq == 0:\n",
    "            del vocabulary[word]\n",
    "    return list(vocabulary.keys())\n",
    "\n",
    "vocabulary = BPE(corpus)\n",
    "if \"lowest__\" in vocabulary:\n",
    "    print(\"'lowest' is in vocabulary\")\n",
    "else:\n",
    "    print(\"'lowest' is not in vocabulary\")"
   ]
  },
  {
   "cell_type": "markdown",
   "metadata": {},
   "source": [
    "# Second step"
   ]
  },
  {
   "cell_type": "code",
   "execution_count": 2,
   "metadata": {},
   "outputs": [],
   "source": [
    "from tokenizers import Tokenizer\n",
    "from tokenizers.models import BPE, WordPiece\n",
    "from tokenizers.trainers import BpeTrainer, WordPieceTrainer\n",
    "from tokenizers.pre_tokenizers import Whitespace"
   ]
  },
  {
   "cell_type": "code",
   "execution_count": 6,
   "metadata": {},
   "outputs": [],
   "source": [
    "unknown_token = \"<UNK>\"\n",
    "special_tokens = [\"<UNK>\", \"<SEP>\", \"<MASK>\", \"<CLS>\"]\n",
    "\n",
    "bpe_tokenizer = Tokenizer(BPE(unk_token=unknown_token))\n",
    "bpe_tokenizer.pre_tokenizer = Whitespace()\n",
    "bpe_trainer = BpeTrainer(special_tokens=special_tokens)\n",
    "\n",
    "wordpiece_tokenizer = Tokenizer(WordPiece(unk_token=unknown_token))\n",
    "wordpiece_tokenizer.pre_tokenizer = Whitespace()\n",
    "wordpiece_trainer = WordPieceTrainer(special_tokens=special_tokens)\n"
   ]
  },
  {
   "cell_type": "code",
   "execution_count": 8,
   "metadata": {},
   "outputs": [],
   "source": [
    "def tokenize(model_name, data_files):\n",
    "    if model_name == 'BPE':\n",
    "        tokenizer = Tokenizer(BPE(unk_token=unknown_token))\n",
    "        tokenizer.pre_tokenizer = Whitespace()\n",
    "        trainer = BpeTrainer(special_tokens=special_tokens)\n",
    "    elif model_name == 'WordPiece':\n",
    "        tokenizer = Tokenizer(WordPiece(unk_token=unknown_token))\n",
    "        tokenizer.pre_tokenizer = Whitespace()\n",
    "        trainer = WordPieceTrainer(special_tokens=special_tokens)\n",
    "    tokenizer.train(data_files, trainer)\n",
    "    return tokenizer"
   ]
  },
  {
   "cell_type": "code",
   "execution_count": 9,
   "metadata": {},
   "outputs": [
    {
     "name": "stdout",
     "output_type": "stream",
     "text": [
      "small data files:\n",
      "BPE: \n",
      "['This', 'is', 'a', 'deep', 'learning', 'to', 'ken', 'ization', 't', 'ut', 'or', 'ial', '.', 'T', 'ok', 'en', 'ization', 'is', 'the', 'first', 'step', 'in', 'a', 'deep', 'learning', 'N', 'L', 'P', 'pi', 'pe', 'line', '.', 'We', 'will', 'be', 'comparing', 'the', 'to', 'k', 'ens', 'generated', 'by', 'each', 'to', 'ken', 'ization', 'model', '.', 'Ex', 'c', 'ited', 'much', '?', '!', '<UNK>']\n",
      "WordPiece: \n",
      "['This', 'is', 'a', 'deep', 'learning', 'to', '##ken', '##ization', 't', '##ut', '##oria', '##l', '.', 'To', '##ken', '##ization', 'is', 'the', 'first', 'step', 'in', 'a', 'deep', 'learning', 'N', '##L', '##P', 'pip', '##el', '##ine', '.', 'We', 'will', 'be', 'comparing', 'the', 'to', '##ken', '##s', 'generated', 'by', 'each', 'to', '##ken', '##ization', 'model', '.', 'Ex', '##ci', '##ted', 'much', '<UNK>']\n",
      "large data files:\n",
      "BPE: \n",
      "['This', 'is', 'a', 'deep', 'learning', 'to', 'ken', 'ization', 'tut', 'orial', '.', 'Tok', 'en', 'ization', 'is', 'the', 'first', 'step', 'in', 'a', 'deep', 'learning', 'NL', 'P', 'pipeline', '.', 'We', 'will', 'be', 'comparing', 'the', 'tok', 'ens', 'generated', 'by', 'each', 'to', 'ken', 'ization', 'model', '.', 'Ex', 'cited', 'much', '?', '!', '<UNK>']\n",
      "WordPiece: \n",
      "['This', 'is', 'a', 'deep', 'learning', 'to', '##ken', '##ization', 'tut', '##orial', '.', 'Tok', '##eni', '##za', '##ti', '##on', 'is', 'the', 'first', 'step', 'in', 'a', 'deep', 'learning', 'NL', '##P', 'pipeline', '.', 'We', 'will', 'be', 'comparing', 'the', 'to', '##ken', '##s', 'generated', 'by', 'each', 'to', '##ken', '##ization', 'model', '.', 'Exc', '##ited', 'much', '<UNK>']\n"
     ]
    }
   ],
   "source": [
    "import os\n",
    "train_data = {\n",
    "    'small': [f\"data{os.sep}pg16457.txt\"],\n",
    "    'large': [f\"data{os.sep}wikitext-103-raw{os.sep}wiki.train.raw\", \n",
    "              f\"data{os.sep}wikitext-103-raw{os.sep}wiki.test.raw\", \n",
    "              f\"data{os.sep}wikitext-103-raw{os.sep}wiki.valid.raw\"]\n",
    "}\n",
    "input = \"This is a deep learning tokenization tutorial. Tokenization is the first step in a \\\n",
    "deep learning NLP pipeline. We will be comparing the tokens generated by each \\\n",
    "tokenization model. Excited much?!😍\"\n",
    "for data_size, data_files in train_data.items():\n",
    "    print(f\"{data_size} data files:\")\n",
    "    for model_name in ['BPE', 'WordPiece']:\n",
    "        print(f\"{model_name}: \")\n",
    "        tokenizer = tokenize(model_name, data_files)\n",
    "        output = tokenizer.encode(input)\n",
    "        print(output.tokens)"
   ]
  },
  {
   "cell_type": "markdown",
   "metadata": {},
   "source": [
    "## Third step"
   ]
  },
  {
   "cell_type": "code",
   "execution_count": 16,
   "metadata": {},
   "outputs": [
    {
     "name": "stdout",
     "output_type": "stream",
     "text": [
      "small data files:\n",
      "BPE: \n",
      "Number of tokens: 122739\n",
      "WordPiece: \n",
      "Number of tokens: 122739\n",
      "large data files:\n",
      "BPE: \n",
      "Number of tokens: 140872\n",
      "WordPiece: \n",
      "Number of tokens: 140735\n"
     ]
    }
   ],
   "source": [
    "with open(f\"data{os.sep}pg16457.txt\") as f:\n",
    "    contents = f.read()\n",
    "\n",
    "for data_size, data_files in train_data.items():\n",
    "    print(f\"{data_size} data files:\")\n",
    "    for model_name in ['BPE', 'WordPiece']:\n",
    "        print(f\"{model_name}: \")\n",
    "        tokenizer = tokenize(model_name, data_files)\n",
    "        output = tokenizer.encode(contents)\n",
    "        print(f\"Number of tokens: {len(output)}\")"
   ]
  }
 ],
 "metadata": {
  "interpreter": {
   "hash": "5c3da126173beff69c96a97d5781048dcd97eee0e2740f6a905628fa4b7c37f2"
  },
  "kernelspec": {
   "display_name": "Python 3.7.11 ('edu')",
   "language": "python",
   "name": "python3"
  },
  "language_info": {
   "codemirror_mode": {
    "name": "ipython",
    "version": 3
   },
   "file_extension": ".py",
   "mimetype": "text/x-python",
   "name": "python",
   "nbconvert_exporter": "python",
   "pygments_lexer": "ipython3",
   "version": "3.7.11"
  },
  "orig_nbformat": 4
 },
 "nbformat": 4,
 "nbformat_minor": 2
}
